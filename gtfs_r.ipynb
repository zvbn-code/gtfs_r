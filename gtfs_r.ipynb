{
 "cells": [
  {
   "cell_type": "markdown",
   "id": "bfddcace",
   "metadata": {},
   "source": [
    "# Laden der VBN GTFS-R Daten"
   ]
  },
  {
   "cell_type": "code",
   "execution_count": null,
   "id": "963be64c",
   "metadata": {},
   "outputs": [],
   "source": [
    "import pandas as pd\n",
    "import os\n",
    "import duckdb\n",
    "from google.transit import gtfs_realtime_pb2\n",
    "import requests\n"
   ]
  },
  {
   "cell_type": "code",
   "execution_count": null,
   "id": "9a7dd4b0",
   "metadata": {},
   "outputs": [],
   "source": [
    "url = \"http://gtfsr.vbn.de/gtfsr_connect.bin\""
   ]
  },
  {
   "cell_type": "code",
   "execution_count": null,
   "id": "88c03aae",
   "metadata": {},
   "outputs": [],
   "source": [
    "duck = duckdb.connect(database=':memory:')"
   ]
  },
  {
   "cell_type": "markdown",
   "id": "805408fe",
   "metadata": {},
   "source": [
    "## Einlesen GTFS "
   ]
  },
  {
   "cell_type": "code",
   "execution_count": null,
   "id": "a5de433e",
   "metadata": {},
   "outputs": [],
   "source": [
    "base_url = '/home/zvbn/python/gtfs/gtfs_top'\n",
    "gtfs_stops = os.path.join(base_url, 'stops.txt')\n",
    "gtfs_stop_times = os.path.join(base_url,'stop_times.txt')\n",
    "gtfs_trips = os.path.join(base_url,'trips.txt')\n",
    "gtfs_routes = os.path.join(base_url,'routes.txt')\n",
    "gtfs_agency = os.path.join(base_url,'agency.txt')"
   ]
  },
  {
   "cell_type": "code",
   "execution_count": null,
   "id": "ce663da8",
   "metadata": {},
   "outputs": [],
   "source": [
    "duck.sql(f\"\"\"\n",
    "CREATE or replace TABLE stops AS select * from read_csv('{gtfs_stops}');\n",
    "create or replace table agency as select * from read_csv('{gtfs_agency}'); \n",
    "\n",
    "CREATE or replace TABLE stop_times AS select * from read_csv('{gtfs_stop_times}');\n",
    "CREATE or replace TABLE trips AS select * from read_csv('{gtfs_trips}', delim=',',columns = {{ \n",
    "        'route_id' : 'VARCHAR',       \n",
    "        'service_id' : 'VARCHAR',       \n",
    "            \n",
    "        'trip_id' : 'VARCHAR',       \n",
    "        'trip_headsign' : 'VARCHAR',       \n",
    "        'trip_short_name': 'VARCHAR',        \n",
    "        'direction_id': 'VARCHAR',        \n",
    "        'block_id': 'VARCHAR',        \n",
    "        'shape_id': 'VARCHAR'  ,      \n",
    "        'wheelchair_accessible': 'VARCHAR' ,       \n",
    "        'bikes_allowed': 'VARCHAR'        \n",
    "    }});\n",
    "CREATE or replace TABLE routes AS select * from read_csv('{gtfs_routes}');\n",
    "         \"\"\")"
   ]
  },
  {
   "cell_type": "code",
   "execution_count": null,
   "id": "345c00a3",
   "metadata": {},
   "outputs": [],
   "source": [
    "duck.sql(\"from stops limit 10\").df()"
   ]
  },
  {
   "cell_type": "markdown",
   "id": "b4054e03",
   "metadata": {},
   "source": [
    "## Einlesen Protobuf"
   ]
  },
  {
   "cell_type": "code",
   "execution_count": null,
   "id": "e6554a79",
   "metadata": {},
   "outputs": [],
   "source": [
    "feed = gtfs_realtime_pb2.FeedMessage()\n",
    "response = requests.get(url)\n",
    "feed.ParseFromString(response.content)\n",
    "trip_updates = []\n",
    "stop_time_updates = []\n",
    "for entity in feed.entity:\n",
    "    #print(entity)\n",
    "    id = entity.id\n",
    "    #print(id)\n",
    "\n",
    "    if entity.HasField('trip_update'):\n",
    "    #     print(entity.trip_update)\n",
    "    #     #print(entity.trip.trip_id)\n",
    "        # print('tu: ',entity.trip_update.trip.trip_id, \n",
    "        #       entity.trip_update.trip.route_id, \n",
    "        #        entity.trip_update.trip.start_time, \n",
    "        #        entity.trip_update.trip.start_date,\n",
    "        #        entity.trip_update.trip.direction_id,\n",
    "        #        entity.trip_update.trip.schedule_relationship,\n",
    "        #        )\n",
    "        trip_updates.append([entity.trip_update.trip.trip_id, entity.trip_update.trip.route_id, entity.trip_update.trip.start_time, entity.trip_update.trip.start_date, entity.trip_update.trip.schedule_relationship])\n",
    "        \n",
    "        if entity.trip_update.stop_time_update:\n",
    "            for stu in entity.trip_update.stop_time_update:\n",
    "                #print('stu: ', stu.stop_sequence, stu.stop_id, 'dep: ',stu.departure, ' arr:', stu.arrival)\n",
    "                stop_time_updates.append([entity.trip_update.trip.trip_id, \n",
    "                                  stu.stop_sequence,\n",
    "                                  stu.stop_id,\n",
    "                                  stu.departure.delay,\n",
    "                                  stu.arrival.delay])\n",
    "               \n",
    "\n",
    "    # if entity.HasField('alert'):\n",
    "    #     print(entity.alert)\n",
    "\n",
    "    # if entity.HasField('is_deleted'):\n",
    "    #     print(entity.is_deleted)\n",
    "    \n"
   ]
  },
  {
   "cell_type": "code",
   "execution_count": null,
   "id": "02e8a463",
   "metadata": {},
   "outputs": [],
   "source": [
    "trip_updates_df = pd.DataFrame(trip_updates, columns=['trip_id', 'route_id', 'start_time', 'start_date', 'schedule_relationship'])\n",
    "trip_updates_df"
   ]
  },
  {
   "cell_type": "code",
   "execution_count": null,
   "id": "49f2b7d6",
   "metadata": {},
   "outputs": [],
   "source": [
    "stop_time_updates_df = pd.DataFrame(stop_time_updates, columns=['trip_id', 'stop_sequence', 'stop_id', 'departure', 'arrival'])\n",
    "stop_time_updates_df"
   ]
  },
  {
   "cell_type": "code",
   "execution_count": null,
   "id": "1ba5ebef",
   "metadata": {},
   "outputs": [],
   "source": [
    "duck.sql(\"\"\"create or replace table trip_updates as select * from trip_updates_df;\"\"\")\n",
    "duck.sql(\"\"\"create or replace table stop_times_updates as select * from stop_time_updates_df;\"\"\")"
   ]
  },
  {
   "cell_type": "code",
   "execution_count": null,
   "id": "46d7dff5",
   "metadata": {},
   "outputs": [],
   "source": [
    "duck.sql(f\"\"\"select t.trip_id, a.agency_name, r.route_short_name, t.trip_short_name,t.trip_headsign,tu.start_time ,a.agency_id,  stu.stop_sequence,stu.arrival, stu.departure, s.stop_name\n",
    "             from trips t\n",
    "             join routes r on t.route_id = r.route_id\n",
    "             join agency a on r.agency_id = a.agency_id             \n",
    "             join trip_updates tu on t.trip_id = tu.trip_id\n",
    "             join stop_times_updates stu on tu.trip_id = stu.trip_id\n",
    "             join stops s on stu.stop_id = s.stop_id\n",
    "             and r.route_short_name in ('630', '670')\n",
    "             and a.agency_id in (124)\n",
    "           order by t.trip_short_name, stu.stop_sequence\"\"\")"
   ]
  },
  {
   "cell_type": "code",
   "execution_count": null,
   "id": "c7f93454",
   "metadata": {},
   "outputs": [],
   "source": []
  },
  {
   "cell_type": "code",
   "execution_count": null,
   "id": "99304c63",
   "metadata": {},
   "outputs": [],
   "source": []
  }
 ],
 "metadata": {
  "kernelspec": {
   "display_name": ".venv",
   "language": "python",
   "name": "python3"
  },
  "language_info": {
   "codemirror_mode": {
    "name": "ipython",
    "version": 3
   },
   "file_extension": ".py",
   "mimetype": "text/x-python",
   "name": "python",
   "nbconvert_exporter": "python",
   "pygments_lexer": "ipython3",
   "version": "3.11.10"
  }
 },
 "nbformat": 4,
 "nbformat_minor": 5
}
