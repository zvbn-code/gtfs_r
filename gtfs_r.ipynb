{
 "cells": [
  {
   "cell_type": "markdown",
   "id": "bfddcace",
   "metadata": {},
   "source": [
    "# Laden der VBN GTFS-R Daten"
   ]
  },
  {
   "cell_type": "code",
   "execution_count": null,
   "id": "963be64c",
   "metadata": {},
   "outputs": [],
   "source": [
    "import pandas as pd\n",
    "import os\n",
    "import duckdb\n",
    "from google.transit import gtfs_realtime_pb2\n",
    "import requests\n"
   ]
  },
  {
   "cell_type": "code",
   "execution_count": null,
   "id": "9a7dd4b0",
   "metadata": {},
   "outputs": [],
   "source": [
    "url = \"http://gtfsr.vbn.de/gtfsr_connect.bin\""
   ]
  },
  {
   "cell_type": "code",
   "execution_count": null,
   "id": "e6554a79",
   "metadata": {},
   "outputs": [],
   "source": [
    "\n",
    "feed = gtfs_realtime_pb2.FeedMessage()\n",
    "response = requests.get(url)\n",
    "feed.ParseFromString(response.content)\n",
    "for entity in feed.entity:\n",
    "  if entity.HasField('trip_update'):\n",
    "    print(entity.trip_update)"
   ]
  },
  {
   "cell_type": "code",
   "execution_count": null,
   "id": "46d7dff5",
   "metadata": {},
   "outputs": [],
   "source": []
  }
 ],
 "metadata": {
  "kernelspec": {
   "display_name": ".venv",
   "language": "python",
   "name": "python3"
  },
  "language_info": {
   "codemirror_mode": {
    "name": "ipython",
    "version": 3
   },
   "file_extension": ".py",
   "mimetype": "text/x-python",
   "name": "python",
   "nbconvert_exporter": "python",
   "pygments_lexer": "ipython3",
   "version": "3.11.10"
  }
 },
 "nbformat": 4,
 "nbformat_minor": 5
}
