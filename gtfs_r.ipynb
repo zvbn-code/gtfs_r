{
 "cells": [
  {
   "cell_type": "markdown",
   "id": "bfddcace",
   "metadata": {},
   "source": [
    "# Laden der VBN GTFS-R Daten"
   ]
  },
  {
   "cell_type": "code",
   "execution_count": null,
   "id": "963be64c",
   "metadata": {},
   "outputs": [],
   "source": [
    "import pandas as pd\n",
    "import geopandas as gpd\n",
    "import os\n",
    "import duckdb\n",
    "from google.transit import gtfs_realtime_pb2\n",
    "import requests\n",
    "import datetime as dt\n",
    "import locale\n",
    "from dotenv import load_dotenv\n",
    "import time"
   ]
  },
  {
   "cell_type": "code",
   "execution_count": null,
   "id": "150054c7",
   "metadata": {},
   "outputs": [],
   "source": [
    "load_dotenv(override=True)"
   ]
  },
  {
   "cell_type": "code",
   "execution_count": null,
   "id": "2acc5184",
   "metadata": {},
   "outputs": [],
   "source": [
    "##2\n",
    "locale.setlocale(locale.LC_ALL, 'en_GB.UTF-8') # damit Wochentag in englisch"
   ]
  },
  {
   "cell_type": "code",
   "execution_count": null,
   "id": "9a7dd4b0",
   "metadata": {},
   "outputs": [],
   "source": [
    "url = os.getenv('URL_GTFS_R')\n",
    "url"
   ]
  },
  {
   "cell_type": "markdown",
   "id": "61b97665",
   "metadata": {},
   "source": [
    "## Starten der DuckDB"
   ]
  },
  {
   "cell_type": "code",
   "execution_count": null,
   "id": "88c03aae",
   "metadata": {},
   "outputs": [],
   "source": [
    "duck = duckdb.connect(database=':memory:')"
   ]
  },
  {
   "cell_type": "code",
   "execution_count": null,
   "id": "6c57f2f5",
   "metadata": {},
   "outputs": [],
   "source": [
    "duck.sql(\"\"\"install spatial;\"\"\")\n",
    "duck.sql(\"\"\"load spatial;\"\"\")"
   ]
  },
  {
   "cell_type": "markdown",
   "id": "da25871e",
   "metadata": {},
   "source": [
    "### Einlesen der Linien Bedienungsebene 1+,1"
   ]
  },
  {
   "cell_type": "code",
   "execution_count": null,
   "id": "00ac714e",
   "metadata": {},
   "outputs": [],
   "source": [
    "# Weitere Version\n",
    "sql = f\"\"\"\n",
    "INSTALL postgres;\n",
    "LOAD postgres;\n",
    "ATTACH 'dbname=zvbn_postgis user={os.environ.get('POSTGRES_USER')} password={os.environ.get('POSTGRES_PW')} host=127.0.0.1 port=5432' AS dm (TYPE POSTGRES, READ_ONLY);\n",
    "SHOW ALL TABLES;\n",
    "\"\"\"\n",
    "duck.sql(sql) #Herstellen der Verbindung\n"
   ]
  },
  {
   "cell_type": "code",
   "execution_count": null,
   "id": "73198902",
   "metadata": {},
   "outputs": [],
   "source": [
    "df_linien = duck.sql(\"select nummer from dm.basis.linien where aktiv = True and ebene in ('1', '1+') order by nummer\").df() # Abfrage\n",
    "df_linien"
   ]
  },
  {
   "cell_type": "markdown",
   "id": "66b5c547",
   "metadata": {},
   "source": [
    "### Einlesen der VBN-Grenzen zum Ermitteln der Linien / Halte im VBN aus GTFS"
   ]
  },
  {
   "cell_type": "code",
   "execution_count": null,
   "id": "0c1d83b0",
   "metadata": {},
   "outputs": [],
   "source": [
    "duck.sql(\"\"\"create or replace table vbn as \n",
    "         select * \n",
    "         from st_read('/home/zvbn/python/gtfs/grenzen/vbn_01082018.shp') as vbn\"\"\")"
   ]
  },
  {
   "cell_type": "markdown",
   "id": "805408fe",
   "metadata": {},
   "source": [
    "## Einlesen GTFS und ermitteln des Tagesfahrplans"
   ]
  },
  {
   "cell_type": "code",
   "execution_count": null,
   "id": "a5de433e",
   "metadata": {},
   "outputs": [],
   "source": [
    "base_url = os.path.join(os.getenv('BASE_PATH_GTFS'), 'gtfs_d')\n",
    "gtfs_stops = os.path.join(base_url, 'stops.txt')\n",
    "gtfs_stop_times = os.path.join(base_url,'stop_times.txt')\n",
    "gtfs_trips = os.path.join(base_url,'trips.txt')\n",
    "gtfs_routes = os.path.join(base_url,'routes.txt')\n",
    "gtfs_agency = os.path.join(base_url,'agency.txt')\n",
    "gtfs_calendar = os.path.join(base_url,'calendar.txt')\n",
    "gtfs_calendar_dates = os.path.join(base_url,'calendar_dates.txt')"
   ]
  },
  {
   "cell_type": "code",
   "execution_count": null,
   "id": "ce663da8",
   "metadata": {},
   "outputs": [],
   "source": [
    "duck.sql(f\"\"\"\n",
    "CREATE or replace TABLE stops AS select * from read_csv('{gtfs_stops}', store_rejects = true, ignore_errors = true);\n",
    "create or replace table agency as select * from read_csv('{gtfs_agency}', store_rejects = true, ignore_errors = true); \n",
    "\n",
    "CREATE or replace TABLE stop_times AS select * from read_csv('{gtfs_stop_times}', store_rejects = true, ignore_errors = true);\n",
    "CREATE or replace TABLE trips AS select * from read_csv('{gtfs_trips}', delim=',',columns = {{ \n",
    "        'route_id' : 'VARCHAR',       \n",
    "        'service_id' : 'VARCHAR',       \n",
    "            \n",
    "        'trip_id' : 'VARCHAR',       \n",
    "        'trip_headsign' : 'VARCHAR',       \n",
    "        'trip_short_name': 'VARCHAR',        \n",
    "        'direction_id': 'VARCHAR',        \n",
    "        'block_id': 'VARCHAR',        \n",
    "        'shape_id': 'VARCHAR'  ,      \n",
    "        'wheelchair_accessible': 'VARCHAR' ,       \n",
    "        'bikes_allowed': 'VARCHAR'        \n",
    "    }}, store_rejects = true, ignore_errors = true);\n",
    "CREATE or replace TABLE routes AS select * from read_csv('{gtfs_routes}', store_rejects = true, ignore_errors = true);\n",
    "CREATE or replace TABLE calendar AS select * from read_csv('{gtfs_calendar}', store_rejects = true, ignore_errors = true);\n",
    "CREATE or replace TABLE calendar_dates AS select * from read_csv('{gtfs_calendar_dates}', store_rejects = true, ignore_errors = true);\n",
    "         \"\"\")"
   ]
  },
  {
   "cell_type": "code",
   "execution_count": null,
   "id": "dca13c74",
   "metadata": {},
   "outputs": [],
   "source": [
    "duck.sql(\"FROM reject_errors;\")"
   ]
  },
  {
   "cell_type": "code",
   "execution_count": null,
   "id": "83bfedc5",
   "metadata": {},
   "outputs": [],
   "source": [
    "# Show the length (row count) of all tables in DuckDB\n",
    "tables = duck.sql(\"SHOW TABLES\").df()['name'].tolist()\n",
    "table_lengths = {}\n",
    "for table in tables:\n",
    "    count = duck.sql(f\"SELECT COUNT(*) AS nrows FROM {table}\").df().iloc[0]['nrows']\n",
    "    table_lengths[table] = count\n",
    "    print(f\" {table} Rows {count} \")"
   ]
  },
  {
   "cell_type": "code",
   "execution_count": null,
   "id": "d9b5bd30",
   "metadata": {},
   "outputs": [],
   "source": [
    "##2\n",
    "locale.setlocale(locale.LC_ALL, 'en_GB.UTF-8') # damit Wochentag in englisch\n",
    "weekday_today_name = dt.datetime.now().strftime('%A').lower()\n",
    "weekday_today_name"
   ]
  },
  {
   "cell_type": "code",
   "execution_count": null,
   "id": "958ead33",
   "metadata": {},
   "outputs": [],
   "source": [
    "duck.sql(f\"\"\"create or replace table verkehrt_heute as select * from\n",
    "         (select distinct t.service_id, cd.verkehrt_cd, c.verkehrt_c\n",
    "         from trips t\n",
    "         left join (select service_id, date, exception_type as verkehrt_cd from calendar_dates \n",
    "         where date =  {dt.datetime.now().strftime('%Y%m%d')} and exception_type = 1) as cd \n",
    "         on t.service_id = cd.service_id\n",
    "         left join  (select service_id, {weekday_today_name} as verkehrt_c\n",
    "         from calendar\n",
    "         where {weekday_today_name} = 1) as c\n",
    "         on t.service_id = c.service_id\n",
    "         where c.verkehrt_c = 1 or cd.verkehrt_cd = 1)\"\"\")"
   ]
  },
  {
   "cell_type": "code",
   "execution_count": null,
   "id": "aa8b119f",
   "metadata": {},
   "outputs": [],
   "source": [
    "duck.sql(\"\"\"from verkehrt_heute\"\"\") "
   ]
  },
  {
   "cell_type": "code",
   "execution_count": null,
   "id": "7169b14d",
   "metadata": {},
   "outputs": [],
   "source": [
    "duck.sql(\"\"\" create or replace table lin_vbn as\n",
    "         (select r.agency_id,a.agency_name ,r.route_id, r.route_short_name from\n",
    "         (select s.stop_id\n",
    "         from stops s, vbn\n",
    "         \n",
    "         where st_contains(vbn.geom, st_point(s.stop_lon, s.stop_lat)) \n",
    "         group by all) as s \n",
    "         join stop_times st on s.stop_id = st.stop_id\n",
    "         join trips t on st.trip_id = t.trip_id\n",
    "         join routes r on t.route_id = r.route_id\n",
    "         join agency a on r.agency_id = a.agency_id\n",
    "         group by all)\"\"\")"
   ]
  },
  {
   "cell_type": "code",
   "execution_count": null,
   "id": "366967ce",
   "metadata": {},
   "outputs": [],
   "source": [
    "duck.sql(\"\"\" select * from lin_vbn\"\"\")"
   ]
  },
  {
   "cell_type": "markdown",
   "id": "0fbadb29",
   "metadata": {},
   "source": [
    "### Ermitteln der Fahrten im VBN"
   ]
  },
  {
   "cell_type": "code",
   "execution_count": null,
   "id": "8d5bc13b",
   "metadata": {},
   "outputs": [],
   "source": [
    "duck.sql(\"\"\"select * \n",
    "         from trips t\n",
    "         join (select service_id \n",
    "            from verkehrt_heute \n",
    "            where verkehrt_cd = 1 or verkehrt_c = 1) vh on t.service_id = vh.service_id\n",
    "         join lin_vbn l on t.route_id = l.route_id\n",
    "         \"\"\")"
   ]
  },
  {
   "cell_type": "code",
   "execution_count": null,
   "id": "27617188",
   "metadata": {},
   "outputs": [],
   "source": [
    "duck.sql(\"\"\"select a.agency_name, a.agency_id, r.route_short_name,\n",
    "         from routes r\n",
    "         join agency a on r.agency_id = a.agency_id\n",
    "         where lower(r.route_short_name) like lower('%680%') \"\"\").df()"
   ]
  },
  {
   "cell_type": "code",
   "execution_count": null,
   "id": "345c00a3",
   "metadata": {},
   "outputs": [],
   "source": [
    "duck.sql(\"from agency where lower(agency_name) like lower('%Weser%') \").df()"
   ]
  },
  {
   "cell_type": "markdown",
   "id": "b4054e03",
   "metadata": {},
   "source": [
    "## Einlesen Protobuf"
   ]
  },
  {
   "cell_type": "code",
   "execution_count": null,
   "id": "e6554a79",
   "metadata": {},
   "outputs": [],
   "source": [
    "def get_gtfsr_data(url):\n",
    "    \"\"\"Fetches GTFS-realtime data from the specified URL and processes it into DataFrames.\n",
    "    Args:\n",
    "        url (str): The URL to fetch the GTFS-realtime data from.    \n",
    "    Returns:\n",
    "        tuple: A tuple containing two DataFrames:\n",
    "            - trip_updates_df: DataFrame with trip updates.\n",
    "            - stop_time_updates_df: DataFrame with stop time updates.\n",
    "    \"\"\"\n",
    "    feed = gtfs_realtime_pb2.FeedMessage()\n",
    "    response = requests.get(url)\n",
    "    feed.ParseFromString(response.content)\n",
    "    trip_updates = []\n",
    "    stop_time_updates = []\n",
    "    is_deleted = []\n",
    "    for entity in feed.entity:\n",
    "        #print(entity)\n",
    "        id = entity.id\n",
    "        #print(id)\n",
    "\n",
    "        if entity.HasField('trip_update'):\n",
    "        #     print(entity.trip_update)\n",
    "        #     #print(entity.trip.trip_id)\n",
    "            # print('tu: ',entity.trip_update.trip.trip_id, \n",
    "            #       entity.trip_update.trip.route_id, \n",
    "            #        entity.trip_update.trip.start_time, \n",
    "            #        entity.trip_update.trip.start_date,\n",
    "            #        entity.trip_update.trip.direction_id,\n",
    "            #        entity.trip_update.trip.schedule_relationship,\n",
    "            #        )\n",
    "            trip_updates.append([entity.trip_update.trip.trip_id, entity.trip_update.trip.route_id, \n",
    "                                entity.trip_update.trip.start_time, entity.trip_update.trip.start_date, \n",
    "                                entity.trip_update.trip.schedule_relationship])\n",
    "            \n",
    "            if entity.trip_update.stop_time_update:\n",
    "                for stu in entity.trip_update.stop_time_update:\n",
    "                    #print('stu: ', stu.stop_sequence, stu.stop_id, 'dep: ',stu.departure, ' arr:', stu.arrival)\n",
    "                    stop_time_updates.append([entity.trip_update.trip.trip_id, \n",
    "                                    stu.stop_sequence,\n",
    "                                    stu.stop_id,\n",
    "                                    stu.departure.delay,\n",
    "                                    stu.arrival.delay])\n",
    "                \n",
    "\n",
    "        if entity.HasField('alert'):\n",
    "            print(entity.alert)\n",
    "\n",
    "        if entity.HasField('is_deleted'):\n",
    "            print(entity.is_deleted)\n",
    "\n",
    "    trip_updates_df = pd.DataFrame(trip_updates, columns=['trip_id', 'route_id', 'start_time', 'start_date', 'schedule_relationship'])\n",
    "    stop_time_updates_df = pd.DataFrame(stop_time_updates, columns=['trip_id', 'stop_sequence', 'stop_id', 'departure', 'arrival'])\n",
    "\n",
    "    return trip_updates_df, stop_time_updates_df\n",
    "    \n"
   ]
  },
  {
   "cell_type": "markdown",
   "id": "91431b2c",
   "metadata": {},
   "source": [
    "### Einlesen von GTFS-R feeds"
   ]
  },
  {
   "cell_type": "code",
   "execution_count": null,
   "id": "02e8a463",
   "metadata": {},
   "outputs": [],
   "source": [
    "for i in range(0, 2):\n",
    "    trip_updates_df, stop_time_updates_df = get_gtfsr_data(url)\n",
    "    ts = dt.datetime.now().strftime('%Y%m%d%H%M')\n",
    "    trip_updates_df.to_parquet(f'data/trip_updates_{ts}.parquet', index=False)  # Speichern als Parquet-Datei\n",
    "    stop_time_updates_df.to_parquet(f'data/stop_time_updates_{ts}.parquet', index=False)  # Speichern als Parquet-Datei\n",
    "    time.sleep(60)  # 1 Minute warten, bevor die nächste Abfrage erfolgt"
   ]
  },
  {
   "cell_type": "markdown",
   "id": "4125a54c",
   "metadata": {},
   "source": [
    "## Zusammenfahren GTFS-Realtime und GTFS"
   ]
  },
  {
   "cell_type": "code",
   "execution_count": null,
   "id": "1ba5ebef",
   "metadata": {},
   "outputs": [],
   "source": [
    "duck.sql(\"\"\"create or replace table trip_updates as select * from 'data/trip_updates*.parquet';\"\"\")\n",
    "duck.sql(\"\"\"create or replace table stop_times_updates as select * from 'data/stop_time_updates*.parquet';\"\"\")"
   ]
  },
  {
   "cell_type": "code",
   "execution_count": null,
   "id": "46d7dff5",
   "metadata": {},
   "outputs": [],
   "source": [
    "duck.sql(\"\"\"create or replace table trip_updates_vbn as\n",
    "         (select t.trip_id, a.agency_name, r.route_short_name, t.trip_short_name,t.trip_headsign,tu.start_time ,a.agency_id,  \n",
    "         stu.stop_sequence,stu.arrival, stu.departure, s.stop_name\n",
    "             from trips t\n",
    "             join routes r on t.route_id = r.route_id\n",
    "             join agency a on r.agency_id = a.agency_id             \n",
    "             join trip_updates tu on t.trip_id = tu.trip_id\n",
    "             join stop_times_updates stu on tu.trip_id = stu.trip_id\n",
    "             join stops s on stu.stop_id = s.stop_id\n",
    "             join lin_vbn lv on r.agency_id = lv.agency_id and r.route_id = lv.route_id\n",
    "           order by r.route_short_name, t.trip_short_name, stu.stop_sequence)\"\"\")"
   ]
  },
  {
   "cell_type": "code",
   "execution_count": null,
   "id": "6ce3a6fb",
   "metadata": {},
   "outputs": [],
   "source": [
    "duck.sql(\"\"\"select * from trip_updates_vbn where route_short_name like '%440%'\"\"\").df()"
   ]
  },
  {
   "cell_type": "code",
   "execution_count": null,
   "id": "c7f93454",
   "metadata": {},
   "outputs": [],
   "source": [
    "duck.sql(\"\"\"select agency_name, route_short_name \n",
    "         from trip_updates_vbn \n",
    "         group by all\n",
    "         order by agency_name, route_short_name\"\"\").df()"
   ]
  },
  {
   "cell_type": "markdown",
   "id": "8ab13f46",
   "metadata": {},
   "source": [
    "## Verknüpfung Fahrten heute mit Verlauf"
   ]
  },
  {
   "cell_type": "code",
   "execution_count": null,
   "id": "68410932",
   "metadata": {},
   "outputs": [],
   "source": [
    "\"\"\"update rt set sollabfahrt_ts = datum::date + interval (split_part(sollabfahrt, ':', 1)::int * 3600 + split_part(sollabfahrt, ':', 2)::int * 60 + split_part(sollabfahrt, ':', 3)::int) seconds where trim(sollabfahrt) != '' \"\"\""
   ]
  },
  {
   "cell_type": "code",
   "execution_count": null,
   "id": "00663a19",
   "metadata": {},
   "outputs": [],
   "source": [
    "#Berechnng Abfahrten\n",
    "##1\n",
    "duck.sql(\"\"\"select departure_time::time, current_time, datediff('HOUR', departure_time::time, current_time::time), \n",
    "         current_time::time from stop_times\n",
    "        \"\"\")"
   ]
  },
  {
   "cell_type": "code",
   "execution_count": null,
   "id": "99304c63",
   "metadata": {},
   "outputs": [],
   "source": [
    "duck.sql(\"\"\"select r.route_short_name, t.trip_short_name, t.trip_headsign, st.stop_sequence, \n",
    "         s.stop_name, st.departure_time, tu.departure, tu.arrival, max(departure) over (partition by t.trip_short_name) as max_departure,\n",
    "         from stop_times st\n",
    "         join trips t on st.trip_id = t.trip_id\n",
    "         join verkehrt_heute vh on t.service_id = vh.service_id\n",
    "         join stops s on st.stop_id = s.stop_id\n",
    "         join routes r on t.route_id = r.route_id\n",
    "         join lin_vbn lv on r.agency_id = lv.agency_id and r.route_id = lv.route_id\n",
    "         join trip_updates_vbn tu on t.trip_id = tu.trip_id and st.stop_sequence = tu.stop_sequence\n",
    "\n",
    "         where r.route_short_name in (select nummer from dm.basis.linien where aktiv = True and ebene in ('1', '1+') order by nummer) \n",
    "         -- and abs(datediff('HOUR', departure_time::time, current_time::time)) < 2\n",
    "\n",
    "         qualify max_departure = departure\n",
    "\n",
    "         order by r.route_short_name\n",
    "                 \n",
    "         \n",
    "         \"\"\").df()"
   ]
  },
  {
   "cell_type": "markdown",
   "id": "8177c0be",
   "metadata": {},
   "source": []
  },
  {
   "cell_type": "code",
   "execution_count": null,
   "id": "13b55f55",
   "metadata": {},
   "outputs": [],
   "source": [
    "duck.close()"
   ]
  },
  {
   "cell_type": "code",
   "execution_count": null,
   "id": "b39f0c2a",
   "metadata": {},
   "outputs": [],
   "source": []
  }
 ],
 "metadata": {
  "kernelspec": {
   "display_name": ".venv",
   "language": "python",
   "name": "python3"
  },
  "language_info": {
   "codemirror_mode": {
    "name": "ipython",
    "version": 3
   },
   "file_extension": ".py",
   "mimetype": "text/x-python",
   "name": "python",
   "nbconvert_exporter": "python",
   "pygments_lexer": "ipython3",
   "version": "3.11.10"
  }
 },
 "nbformat": 4,
 "nbformat_minor": 5
}
