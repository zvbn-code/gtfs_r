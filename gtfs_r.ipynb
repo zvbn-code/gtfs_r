{
 "cells": [
  {
   "cell_type": "markdown",
   "id": "bfddcace",
   "metadata": {},
   "source": [
    "# Laden der VBN GTFS-R Daten"
   ]
  },
  {
   "cell_type": "code",
   "execution_count": 1,
   "id": "963be64c",
   "metadata": {},
   "outputs": [],
   "source": [
    "import pandas as pd\n",
    "import geopandas as gpd\n",
    "import os\n",
    "import duckdb\n",
    "from google.transit import gtfs_realtime_pb2\n",
    "import requests\n",
    "import datetime as dt\n",
    "import locale\n",
    "from dotenv import load_dotenv\n"
   ]
  },
  {
   "cell_type": "code",
   "execution_count": 2,
   "id": "150054c7",
   "metadata": {},
   "outputs": [
    {
     "data": {
      "text/plain": [
       "True"
      ]
     },
     "execution_count": 2,
     "metadata": {},
     "output_type": "execute_result"
    }
   ],
   "source": [
    "load_dotenv()"
   ]
  },
  {
   "cell_type": "code",
   "execution_count": 3,
   "id": "2acc5184",
   "metadata": {},
   "outputs": [
    {
     "data": {
      "text/plain": [
       "'en_GB.UTF-8'"
      ]
     },
     "execution_count": 3,
     "metadata": {},
     "output_type": "execute_result"
    }
   ],
   "source": [
    "locale.setlocale(locale.LC_ALL, 'en_GB.UTF-8') # damit Wochentag in englisch"
   ]
  },
  {
   "cell_type": "code",
   "execution_count": 4,
   "id": "9a7dd4b0",
   "metadata": {},
   "outputs": [],
   "source": [
    "url = \"http://gtfsr.vbn.de/gtfsr_connect.bin\""
   ]
  },
  {
   "cell_type": "markdown",
   "id": "61b97665",
   "metadata": {},
   "source": [
    "## Starten der DuckDB"
   ]
  },
  {
   "cell_type": "code",
   "execution_count": 5,
   "id": "88c03aae",
   "metadata": {},
   "outputs": [],
   "source": [
    "duck = duckdb.connect(database=':memory:')"
   ]
  },
  {
   "cell_type": "code",
   "execution_count": 6,
   "id": "00ac714e",
   "metadata": {},
   "outputs": [
    {
     "data": {
      "text/plain": [
       "┌──────────┬──────────┬────────────────────┬───────────────────────────────────────────────────────────────────────────────────────────────────────────────────────────────────────────────────────────────────────────────────────────────────────────────────────────────────────────────────────────────────────────────────┬───────────────────────────────────────────────────────────────────────────────────────────────────────────────────────────────────────────────────────────────────────────────────────────────────────────────────────────────────────────────┬───────────┐\n",
       "│ database │  schema  │        name        │                                                                                                                                   column_names                                                                                                                                    │                                                                                                                 column_types                                                                                                                  │ temporary │\n",
       "│ varchar  │ varchar  │      varchar       │                                                                                                                                     varchar[]                                                                                                                                     │                                                                                                                   varchar[]                                                                                                                   │  boolean  │\n",
       "├──────────┼──────────┼────────────────────┼───────────────────────────────────────────────────────────────────────────────────────────────────────────────────────────────────────────────────────────────────────────────────────────────────────────────────────────────────────────────────────────────────────────────────┼───────────────────────────────────────────────────────────────────────────────────────────────────────────────────────────────────────────────────────────────────────────────────────────────────────────────────────────────────────────────┼───────────┤\n",
       "│ dm       │ basis    │ aufgabentraeger    │ [at_lang, at_kurz, str_hausnr, plz, ort, telefon, fax, internet, email]                                                                                                                                                                                                           │ [VARCHAR, VARCHAR, VARCHAR, VARCHAR, VARCHAR, VARCHAR, VARCHAR, VARCHAR, VARCHAR]                                                                                                                                                             │ false     │\n",
       "│ dm       │ basis    │ bed_ebenen         │ [id, ebene_kurz, ebene_lang]                                                                                                                                                                                                                                                      │ [INTEGER, VARCHAR, VARCHAR]                                                                                                                                                                                                                   │ false     │\n",
       "│ dm       │ basis    │ kreise             │ [kreis, kreis_kurz, id, lfd_nr]                                                                                                                                                                                                                                                   │ [VARCHAR, VARCHAR, INTEGER, INTEGER]                                                                                                                                                                                                          │ false     │\n",
       "│ dm       │ basis    │ lin_buendel        │ [buendel, harmon, kreis, id, bemerkung, kreis_kurz, lfd_nr, aktiv, buendel_lang, project_vms, rt_operator, betreiber_kurz]                                                                                                                                                        │ [VARCHAR, DATE, VARCHAR, INTEGER, VARCHAR, VARCHAR, INTEGER, BOOLEAN, VARCHAR, VARCHAR, VARCHAR, VARCHAR]                                                                                                                                     │ false     │\n",
       "│ dm       │ basis    │ linien             │ [nummer, von, nach, ueber, genehmigt_nach_paragraph, genehmigung_start, genehmigung_ende, buendel, produkt, anmerkung, verbund, aufgabentraeger, lin_num_vbn, lin_cod_fan, last_date, last_user, id, status, von_hst, nach_hst, aktiv, ebene, rbl_vbn, rbl_li_nr, type_osm, dlid] │ [VARCHAR, VARCHAR, VARCHAR, VARCHAR, VARCHAR, DATE, DATE, VARCHAR, VARCHAR, VARCHAR, VARCHAR, VARCHAR, VARCHAR, VARCHAR, TIMESTAMP, VARCHAR, INTEGER, INTEGER, VARCHAR, VARCHAR, BOOLEAN, VARCHAR, BOOLEAN, 'DECIMAL(6,0)', VARCHAR, VARCHAR] │ false     │\n",
       "│ dm       │ basis    │ linien_betriebsf   │ [nummer, aufgabentraeger, betriebsfuehrer, last_date, last_user, lin_id]                                                                                                                                                                                                          │ [VARCHAR, VARCHAR, VARCHAR, TIMESTAMP, VARCHAR, INTEGER]                                                                                                                                                                                      │ false     │\n",
       "│ dm       │ basis    │ linien_dh          │ [nummer, von, nach, buendel_ist, b2008, buendel_a, buendel_b, lin_num_vbn, id, ebene]                                                                                                                                                                                             │ [VARCHAR, VARCHAR, VARCHAR, VARCHAR, VARCHAR, VARCHAR, VARCHAR, VARCHAR, INTEGER, VARCHAR]                                                                                                                                                    │ false     │\n",
       "│ dm       │ basis    │ linien_dh_2        │ [nummer, b2008, buendel_2013, vgh_in_buendel_2013, buendel_nordost_var_a, buendel_nordost_var_b, buendel_nordwest_var_a, buendel_suedost_und_suedwest_var_a]                                                                                                                      │ [VARCHAR, VARCHAR, VARCHAR, VARCHAR, VARCHAR, VARCHAR, VARCHAR, VARCHAR]                                                                                                                                                                      │ false     │\n",
       "│ dm       │ basis    │ linien_genehmigung │ [lfd_nr, lin_id, datum, art_antrag, bemerkung, pfad, frist, erledigt, last_date, last_user]                                                                                                                                                                                       │ [INTEGER, INTEGER, DATE, VARCHAR, VARCHAR, VARCHAR, DATE, BOOLEAN, TIMESTAMP, VARCHAR]                                                                                                                                                        │ false     │\n",
       "│ dm       │ basis    │ linien_historie    │ [nummer, at, gueltig_ab, gueltig_bis, anmerkung, last_date, last_user, lfd_nr, last_time, lin_id]                                                                                                                                                                                 │ [VARCHAR, VARCHAR, DATE, DATE, VARCHAR, DATE, VARCHAR, INTEGER, TIME WITH TIME ZONE, INTEGER]                                                                                                                                                 │ false     │\n",
       "│ ·        │   ·      │    ·               │                 ·                                                                                                                                                                                                                                                                 │                      ·                                                                                                                                                                                                                        │   ·       │\n",
       "│ ·        │   ·      │    ·               │                 ·                                                                                                                                                                                                                                                                 │                      ·                                                                                                                                                                                                                        │   ·       │\n",
       "│ ·        │   ·      │    ·               │                 ·                                                                                                                                                                                                                                                                 │                      ·                                                                                                                                                                                                                        │   ·       │\n",
       "│ dm       │ topology │ topology           │ [id, name, srid, precision, hasz]                                                                                                                                                                                                                                                 │ [INTEGER, VARCHAR, INTEGER, DOUBLE, BOOLEAN]                                                                                                                                                                                                  │ false     │\n",
       "│ dm       │ vms      │ contract_linie     │ [id, contract, last_date, last_user, linie_id]                                                                                                                                                                                                                                    │ [INTEGER, INTEGER, TIMESTAMP, VARCHAR, INTEGER]                                                                                                                                                                                               │ false     │\n",
       "│ dm       │ vms      │ einnahmen_vbn      │ [id, contract_id, jahr, euro, last_date, last_user, linie_id]                                                                                                                                                                                                                     │ [INTEGER, INTEGER, INTEGER, DOUBLE, TIMESTAMP, VARCHAR, INTEGER]                                                                                                                                                                              │ false     │\n",
       "│ dm       │ vms      │ fahrtliste_ivu     │ [lin_kurz, lin_lang, lin_var_lang, richtung, lin_var_kurz, betriebstage, plan_bed, abfahrt, ankunft, start_kurz, ende_kurz, fahrtnummer, tage_gueltig, dauer, laenge, fzg_typ, v_beschr, planungsbed, liniengr_kurz, linien_gr_lang]                                              │ [VARCHAR, VARCHAR, VARCHAR, INTEGER, VARCHAR, VARCHAR, VARCHAR, VARCHAR, VARCHAR, VARCHAR, VARCHAR, VARCHAR, INTEGER, VARCHAR, INTEGER, VARCHAR, VARCHAR, VARCHAR, VARCHAR, VARCHAR]                                                          │ false     │\n",
       "│ dm       │ vms      │ lw_km              │ [id, contract_id, jahr, km, last_date, last_user, linie_id]                                                                                                                                                                                                                       │ [INTEGER, INTEGER, INTEGER, DOUBLE, TIMESTAMP, VARCHAR, INTEGER]                                                                                                                                                                              │ false     │\n",
       "│ dm       │ vms      │ ref_dokumente      │ [id_dok, bezeichnung, last_user, contract_id, datum, pfad, last_date]                                                                                                                                                                                                             │ [INTEGER, VARCHAR, VARCHAR, INTEGER, DATE, VARCHAR, TIMESTAMP]                                                                                                                                                                                │ false     │\n",
       "│ dm       │ vms      │ unternehmen        │ [id, kurzname, name, strasse, hausnummer, ort, plz, bemerkung, last_date, last_user]                                                                                                                                                                                              │ [INTEGER, VARCHAR, VARCHAR, VARCHAR, VARCHAR, VARCHAR, VARCHAR, VARCHAR, TIMESTAMP, VARCHAR]                                                                                                                                                  │ false     │\n",
       "│ dm       │ vms      │ vertraege          │ [id, contract, bezeichnung, vetragsbeginn, vertragesende, basisjahr, gegenstand, bemerkung, linie, vertragsart, linienbuendel, kurzbeschreibung, last_date, last_user, aktiv]                                                                                                     │ [INTEGER, INTEGER, VARCHAR, DATE, DATE, INTEGER, VARCHAR, VARCHAR, VARCHAR, VARCHAR, VARCHAR, VARCHAR, TIMESTAMP, VARCHAR, BOOLEAN]                                                                                                           │ false     │\n",
       "│ dm       │ vms      │ vertragspartner    │ [id, id_contract, id_partner, last_date, last_user]                                                                                                                                                                                                                               │ [INTEGER, INTEGER, INTEGER, TIMESTAMP, VARCHAR]                                                                                                                                                                                               │ false     │\n",
       "│ dm       │ vms      │ zuschuesse         │ [id, contract_id, partner_id, jahr, euro, last_date, last_user]                                                                                                                                                                                                                   │ [INTEGER, INTEGER, INTEGER, INTEGER, DOUBLE, TIMESTAMP, VARCHAR]                                                                                                                                                                              │ false     │\n",
       "├──────────┴──────────┴────────────────────┴───────────────────────────────────────────────────────────────────────────────────────────────────────────────────────────────────────────────────────────────────────────────────────────────────────────────────────────────────────────────────────────────────────────────────┴───────────────────────────────────────────────────────────────────────────────────────────────────────────────────────────────────────────────────────────────────────────────────────────────────────────────────────────────────────────────┴───────────┤\n",
       "│ 203 rows (20 shown)                                                                                                                                                                                                                                                                                                                                                                                                                                                                                                                                                            6 columns │\n",
       "└──────────────────────────────────────────────────────────────────────────────────────────────────────────────────────────────────────────────────────────────────────────────────────────────────────────────────────────────────────────────────────────────────────────────────────────────────────────────────────────────────────────────────────────────────────────────────────────────────────────────────────────────────────────────────────────────────────────────────────────────────────────────────────────────────────────────────────────────────────────────────────────┘"
      ]
     },
     "execution_count": 6,
     "metadata": {},
     "output_type": "execute_result"
    }
   ],
   "source": [
    "# Weitere Version\n",
    "sql = f\"\"\"\n",
    "INSTALL postgres;\n",
    "LOAD postgres;\n",
    "ATTACH 'dbname=zvbn_postgis user={os.environ.get('POSTGRES_USER')} password={os.environ.get('POSTGRES_PW')} host=127.0.0.1 port=5432' AS dm (TYPE POSTGRES, READ_ONLY);\n",
    "SHOW ALL TABLES;\n",
    "\"\"\"\n",
    "duck.sql(sql) #Herstellen der Verbindung\n"
   ]
  },
  {
   "cell_type": "code",
   "execution_count": 7,
   "id": "73198902",
   "metadata": {},
   "outputs": [
    {
     "data": {
      "application/vnd.microsoft.datawrangler.viewer.v0+json": {
       "columns": [
        {
         "name": "index",
         "rawType": "int64",
         "type": "integer"
        },
        {
         "name": "nummer",
         "rawType": "object",
         "type": "string"
        }
       ],
       "ref": "0ffec754-3502-4a52-ac64-7bc8a117d327",
       "rows": [
        [
         "0",
         "101"
        ],
        [
         "1",
         "102"
        ],
        [
         "2",
         "120"
        ],
        [
         "3",
         "121"
        ],
        [
         "4",
         "123"
        ],
        [
         "5",
         "133"
        ],
        [
         "6",
         "137"
        ],
        [
         "7",
         "138"
        ],
        [
         "8",
         "150"
        ],
        [
         "9",
         "170"
        ],
        [
         "10",
         "270"
        ],
        [
         "11",
         "280"
        ],
        [
         "12",
         "330"
        ],
        [
         "13",
         "340"
        ],
        [
         "14",
         "350"
        ],
        [
         "15",
         "380"
        ],
        [
         "16",
         "400"
        ],
        [
         "17",
         "440"
        ],
        [
         "18",
         "450"
        ],
        [
         "19",
         "630"
        ],
        [
         "20",
         "650"
        ],
        [
         "21",
         "670"
        ],
        [
         "22",
         "680"
        ],
        [
         "23",
         "713"
        ],
        [
         "24",
         "730"
        ],
        [
         "25",
         "735"
        ],
        [
         "26",
         "740"
        ],
        [
         "27",
         "750"
        ],
        [
         "28",
         "910"
        ],
        [
         "29",
         "S35"
        ],
        [
         "30",
         "S60"
        ]
       ],
       "shape": {
        "columns": 1,
        "rows": 31
       }
      },
      "text/html": [
       "<div>\n",
       "<style scoped>\n",
       "    .dataframe tbody tr th:only-of-type {\n",
       "        vertical-align: middle;\n",
       "    }\n",
       "\n",
       "    .dataframe tbody tr th {\n",
       "        vertical-align: top;\n",
       "    }\n",
       "\n",
       "    .dataframe thead th {\n",
       "        text-align: right;\n",
       "    }\n",
       "</style>\n",
       "<table border=\"1\" class=\"dataframe\">\n",
       "  <thead>\n",
       "    <tr style=\"text-align: right;\">\n",
       "      <th></th>\n",
       "      <th>nummer</th>\n",
       "    </tr>\n",
       "  </thead>\n",
       "  <tbody>\n",
       "    <tr>\n",
       "      <th>0</th>\n",
       "      <td>101</td>\n",
       "    </tr>\n",
       "    <tr>\n",
       "      <th>1</th>\n",
       "      <td>102</td>\n",
       "    </tr>\n",
       "    <tr>\n",
       "      <th>2</th>\n",
       "      <td>120</td>\n",
       "    </tr>\n",
       "    <tr>\n",
       "      <th>3</th>\n",
       "      <td>121</td>\n",
       "    </tr>\n",
       "    <tr>\n",
       "      <th>4</th>\n",
       "      <td>123</td>\n",
       "    </tr>\n",
       "    <tr>\n",
       "      <th>5</th>\n",
       "      <td>133</td>\n",
       "    </tr>\n",
       "    <tr>\n",
       "      <th>6</th>\n",
       "      <td>137</td>\n",
       "    </tr>\n",
       "    <tr>\n",
       "      <th>7</th>\n",
       "      <td>138</td>\n",
       "    </tr>\n",
       "    <tr>\n",
       "      <th>8</th>\n",
       "      <td>150</td>\n",
       "    </tr>\n",
       "    <tr>\n",
       "      <th>9</th>\n",
       "      <td>170</td>\n",
       "    </tr>\n",
       "    <tr>\n",
       "      <th>10</th>\n",
       "      <td>270</td>\n",
       "    </tr>\n",
       "    <tr>\n",
       "      <th>11</th>\n",
       "      <td>280</td>\n",
       "    </tr>\n",
       "    <tr>\n",
       "      <th>12</th>\n",
       "      <td>330</td>\n",
       "    </tr>\n",
       "    <tr>\n",
       "      <th>13</th>\n",
       "      <td>340</td>\n",
       "    </tr>\n",
       "    <tr>\n",
       "      <th>14</th>\n",
       "      <td>350</td>\n",
       "    </tr>\n",
       "    <tr>\n",
       "      <th>15</th>\n",
       "      <td>380</td>\n",
       "    </tr>\n",
       "    <tr>\n",
       "      <th>16</th>\n",
       "      <td>400</td>\n",
       "    </tr>\n",
       "    <tr>\n",
       "      <th>17</th>\n",
       "      <td>440</td>\n",
       "    </tr>\n",
       "    <tr>\n",
       "      <th>18</th>\n",
       "      <td>450</td>\n",
       "    </tr>\n",
       "    <tr>\n",
       "      <th>19</th>\n",
       "      <td>630</td>\n",
       "    </tr>\n",
       "    <tr>\n",
       "      <th>20</th>\n",
       "      <td>650</td>\n",
       "    </tr>\n",
       "    <tr>\n",
       "      <th>21</th>\n",
       "      <td>670</td>\n",
       "    </tr>\n",
       "    <tr>\n",
       "      <th>22</th>\n",
       "      <td>680</td>\n",
       "    </tr>\n",
       "    <tr>\n",
       "      <th>23</th>\n",
       "      <td>713</td>\n",
       "    </tr>\n",
       "    <tr>\n",
       "      <th>24</th>\n",
       "      <td>730</td>\n",
       "    </tr>\n",
       "    <tr>\n",
       "      <th>25</th>\n",
       "      <td>735</td>\n",
       "    </tr>\n",
       "    <tr>\n",
       "      <th>26</th>\n",
       "      <td>740</td>\n",
       "    </tr>\n",
       "    <tr>\n",
       "      <th>27</th>\n",
       "      <td>750</td>\n",
       "    </tr>\n",
       "    <tr>\n",
       "      <th>28</th>\n",
       "      <td>910</td>\n",
       "    </tr>\n",
       "    <tr>\n",
       "      <th>29</th>\n",
       "      <td>S35</td>\n",
       "    </tr>\n",
       "    <tr>\n",
       "      <th>30</th>\n",
       "      <td>S60</td>\n",
       "    </tr>\n",
       "  </tbody>\n",
       "</table>\n",
       "</div>"
      ],
      "text/plain": [
       "   nummer\n",
       "0     101\n",
       "1     102\n",
       "2     120\n",
       "3     121\n",
       "4     123\n",
       "5     133\n",
       "6     137\n",
       "7     138\n",
       "8     150\n",
       "9     170\n",
       "10    270\n",
       "11    280\n",
       "12    330\n",
       "13    340\n",
       "14    350\n",
       "15    380\n",
       "16    400\n",
       "17    440\n",
       "18    450\n",
       "19    630\n",
       "20    650\n",
       "21    670\n",
       "22    680\n",
       "23    713\n",
       "24    730\n",
       "25    735\n",
       "26    740\n",
       "27    750\n",
       "28    910\n",
       "29    S35\n",
       "30    S60"
      ]
     },
     "execution_count": 7,
     "metadata": {},
     "output_type": "execute_result"
    }
   ],
   "source": [
    "df_linien = duck.sql(\"select nummer from dm.basis.linien where aktiv = True and ebene in ('1', '1+') order by nummer\").df() # Abfrage\n",
    "df_linien"
   ]
  },
  {
   "cell_type": "code",
   "execution_count": 8,
   "id": "15f6f9e4",
   "metadata": {},
   "outputs": [],
   "source": [
    "duck.sql(\"\"\"install spatial;\"\"\")\n",
    "duck.sql(\"\"\"load spatial;\"\"\")"
   ]
  },
  {
   "cell_type": "code",
   "execution_count": 9,
   "id": "0c1d83b0",
   "metadata": {},
   "outputs": [],
   "source": [
    "duck.sql(\"\"\"create or replace table vbn as select * from st_read('/home/zvbn/python/gtfs/grenzen/vbn_01082018.shp') as vbn\"\"\")"
   ]
  },
  {
   "cell_type": "markdown",
   "id": "805408fe",
   "metadata": {},
   "source": [
    "## Einlesen GTFS "
   ]
  },
  {
   "cell_type": "code",
   "execution_count": 10,
   "id": "a5de433e",
   "metadata": {},
   "outputs": [],
   "source": [
    "base_url = '/home/zvbn/python/gtfs/gtfs_top'\n",
    "gtfs_stops = os.path.join(base_url, 'stops.txt')\n",
    "gtfs_stop_times = os.path.join(base_url,'stop_times.txt')\n",
    "gtfs_trips = os.path.join(base_url,'trips.txt')\n",
    "gtfs_routes = os.path.join(base_url,'routes.txt')\n",
    "gtfs_agency = os.path.join(base_url,'agency.txt')\n",
    "gtfs_calendar = os.path.join(base_url,'calendar.txt')\n",
    "gtfs_calendar_dates = os.path.join(base_url,'calendar_dates.txt')"
   ]
  },
  {
   "cell_type": "code",
   "execution_count": 11,
   "id": "ce663da8",
   "metadata": {},
   "outputs": [],
   "source": [
    "duck.sql(f\"\"\"\n",
    "CREATE or replace TABLE stops AS select * from read_csv('{gtfs_stops}');\n",
    "create or replace table agency as select * from read_csv('{gtfs_agency}'); \n",
    "\n",
    "CREATE or replace TABLE stop_times AS select * from read_csv('{gtfs_stop_times}');\n",
    "CREATE or replace TABLE trips AS select * from read_csv('{gtfs_trips}', delim=',',columns = {{ \n",
    "        'route_id' : 'VARCHAR',       \n",
    "        'service_id' : 'VARCHAR',       \n",
    "            \n",
    "        'trip_id' : 'VARCHAR',       \n",
    "        'trip_headsign' : 'VARCHAR',       \n",
    "        'trip_short_name': 'VARCHAR',        \n",
    "        'direction_id': 'VARCHAR',        \n",
    "        'block_id': 'VARCHAR',        \n",
    "        'shape_id': 'VARCHAR'  ,      \n",
    "        'wheelchair_accessible': 'VARCHAR' ,       \n",
    "        'bikes_allowed': 'VARCHAR'        \n",
    "    }});\n",
    "CREATE or replace TABLE routes AS select * from read_csv('{gtfs_routes}');\n",
    "CREATE or replace TABLE calendar AS select * from read_csv('{gtfs_calendar}');\n",
    "CREATE or replace TABLE calendar_dates AS select * from read_csv('{gtfs_calendar_dates}');\n",
    "         \"\"\")"
   ]
  },
  {
   "cell_type": "code",
   "execution_count": 12,
   "id": "d9b5bd30",
   "metadata": {},
   "outputs": [
    {
     "data": {
      "text/plain": [
       "'tuesday'"
      ]
     },
     "execution_count": 12,
     "metadata": {},
     "output_type": "execute_result"
    }
   ],
   "source": [
    "weekday_today_name = dt.datetime.now().strftime('%A').lower()\n",
    "weekday_today_name"
   ]
  },
  {
   "cell_type": "code",
   "execution_count": 13,
   "id": "fe3f5012",
   "metadata": {},
   "outputs": [
    {
     "data": {
      "text/plain": [
       "'20250708'"
      ]
     },
     "execution_count": 13,
     "metadata": {},
     "output_type": "execute_result"
    }
   ],
   "source": [
    "dt.datetime.now().strftime('%Y%m%d')"
   ]
  },
  {
   "cell_type": "code",
   "execution_count": 14,
   "id": "958ead33",
   "metadata": {},
   "outputs": [],
   "source": [
    "duck.sql(f\"\"\"create or replace table verkehrt_heute as select * from\n",
    "         (select distinct t.service_id, cd.verkehrt_cd, c.verkehrt_c\n",
    "         from trips t\n",
    "         left join (select service_id, date, exception_type as verkehrt_cd from calendar_dates \n",
    "         where date =  {dt.datetime.now().strftime('%Y%m%d')} and exception_type = 1) as cd \n",
    "         on t.service_id = cd.service_id\n",
    "         left join  (select service_id, {weekday_today_name} as verkehrt_c\n",
    "         from calendar\n",
    "         where {weekday_today_name} = 1) as c\n",
    "         on t.service_id = c.service_id\n",
    "         where c.verkehrt_c = 1 or cd.verkehrt_cd = 1)\"\"\")"
   ]
  },
  {
   "cell_type": "code",
   "execution_count": 15,
   "id": "aa8b119f",
   "metadata": {},
   "outputs": [
    {
     "data": {
      "text/plain": [
       "┌────────────┬─────────────┬────────────┐\n",
       "│ service_id │ verkehrt_cd │ verkehrt_c │\n",
       "│  varchar   │    int64    │   int64    │\n",
       "├────────────┼─────────────┼────────────┤\n",
       "│ 48         │           1 │       NULL │\n",
       "│ 2966       │           1 │       NULL │\n",
       "│ 2992       │        NULL │          1 │\n",
       "│ 3078       │           1 │       NULL │\n",
       "│ 3116       │           1 │       NULL │\n",
       "│ 3140       │           1 │       NULL │\n",
       "│ 3021       │        NULL │          1 │\n",
       "│ 3084       │        NULL │          1 │\n",
       "│ 3125       │        NULL │          1 │\n",
       "│ 3130       │        NULL │          1 │\n",
       "│  ·         │           · │          · │\n",
       "│  ·         │           · │          · │\n",
       "│  ·         │           · │          · │\n",
       "│ 2216       │           1 │       NULL │\n",
       "│ 2265       │           1 │       NULL │\n",
       "│ 2266       │           1 │       NULL │\n",
       "│ 452        │           1 │       NULL │\n",
       "│ 2289       │           1 │       NULL │\n",
       "│ 2332       │           1 │       NULL │\n",
       "│ 2357       │           1 │       NULL │\n",
       "│ 2524       │           1 │       NULL │\n",
       "│ 2553       │           1 │       NULL │\n",
       "│ 2718       │        NULL │          1 │\n",
       "├────────────┴─────────────┴────────────┤\n",
       "│ 1096 rows (20 shown)        3 columns │\n",
       "└───────────────────────────────────────┘"
      ]
     },
     "execution_count": 15,
     "metadata": {},
     "output_type": "execute_result"
    }
   ],
   "source": [
    "duck.sql(\"\"\"from verkehrt_heute\"\"\") "
   ]
  },
  {
   "cell_type": "code",
   "execution_count": 16,
   "id": "7169b14d",
   "metadata": {},
   "outputs": [],
   "source": [
    "duck.sql(\"\"\" create or replace table lin_vbn as\n",
    "         (select r.agency_id, r.route_id from\n",
    "         (select s.stop_id\n",
    "         from stops s, vbn\n",
    "         \n",
    "         where st_contains(vbn.geom, st_point(s.stop_lon, s.stop_lat)) \n",
    "         group by all) as s \n",
    "         join stop_times st on s.stop_id = st.stop_id\n",
    "         join trips t on st.trip_id = t.trip_id\n",
    "         join routes r on t.route_id = r.route_id\n",
    "         group by all)\"\"\")"
   ]
  },
  {
   "cell_type": "code",
   "execution_count": 17,
   "id": "27617188",
   "metadata": {},
   "outputs": [
    {
     "data": {
      "application/vnd.microsoft.datawrangler.viewer.v0+json": {
       "columns": [
        {
         "name": "index",
         "rawType": "int64",
         "type": "integer"
        },
        {
         "name": "agency_name",
         "rawType": "object",
         "type": "string"
        },
        {
         "name": "agency_id",
         "rawType": "int64",
         "type": "integer"
        },
        {
         "name": "route_short_name",
         "rawType": "object",
         "type": "string"
        }
       ],
       "ref": "9e7b7870-ef0e-4068-8dfb-f39e9ab91f5e",
       "rows": [
        [
         "0",
         "Weser-Ems-Bus Betrieb Osnabrück",
         "2402",
         "680"
        ],
        [
         "1",
         "Weser-Ems-Bus Betrieb Bremen",
         "2401",
         "680"
        ],
        [
         "2",
         "Verkehrsgemeinschaft Osnabrück",
         "615",
         "680"
        ]
       ],
       "shape": {
        "columns": 3,
        "rows": 3
       }
      },
      "text/html": [
       "<div>\n",
       "<style scoped>\n",
       "    .dataframe tbody tr th:only-of-type {\n",
       "        vertical-align: middle;\n",
       "    }\n",
       "\n",
       "    .dataframe tbody tr th {\n",
       "        vertical-align: top;\n",
       "    }\n",
       "\n",
       "    .dataframe thead th {\n",
       "        text-align: right;\n",
       "    }\n",
       "</style>\n",
       "<table border=\"1\" class=\"dataframe\">\n",
       "  <thead>\n",
       "    <tr style=\"text-align: right;\">\n",
       "      <th></th>\n",
       "      <th>agency_name</th>\n",
       "      <th>agency_id</th>\n",
       "      <th>route_short_name</th>\n",
       "    </tr>\n",
       "  </thead>\n",
       "  <tbody>\n",
       "    <tr>\n",
       "      <th>0</th>\n",
       "      <td>Weser-Ems-Bus Betrieb Osnabrück</td>\n",
       "      <td>2402</td>\n",
       "      <td>680</td>\n",
       "    </tr>\n",
       "    <tr>\n",
       "      <th>1</th>\n",
       "      <td>Weser-Ems-Bus Betrieb Bremen</td>\n",
       "      <td>2401</td>\n",
       "      <td>680</td>\n",
       "    </tr>\n",
       "    <tr>\n",
       "      <th>2</th>\n",
       "      <td>Verkehrsgemeinschaft Osnabrück</td>\n",
       "      <td>615</td>\n",
       "      <td>680</td>\n",
       "    </tr>\n",
       "  </tbody>\n",
       "</table>\n",
       "</div>"
      ],
      "text/plain": [
       "                       agency_name  agency_id route_short_name\n",
       "0  Weser-Ems-Bus Betrieb Osnabrück       2402              680\n",
       "1     Weser-Ems-Bus Betrieb Bremen       2401              680\n",
       "2   Verkehrsgemeinschaft Osnabrück        615              680"
      ]
     },
     "execution_count": 17,
     "metadata": {},
     "output_type": "execute_result"
    }
   ],
   "source": [
    "duck.sql(\"\"\"select a.agency_name, a.agency_id, r.route_short_name,\n",
    "         from routes r\n",
    "         join agency a on r.agency_id = a.agency_id\n",
    "         where lower(r.route_short_name) like lower('%680%') \"\"\").df()"
   ]
  },
  {
   "cell_type": "code",
   "execution_count": 18,
   "id": "345c00a3",
   "metadata": {},
   "outputs": [
    {
     "data": {
      "application/vnd.microsoft.datawrangler.viewer.v0+json": {
       "columns": [
        {
         "name": "index",
         "rawType": "int64",
         "type": "integer"
        },
        {
         "name": "agency_id",
         "rawType": "int64",
         "type": "integer"
        },
        {
         "name": "agency_name",
         "rawType": "object",
         "type": "string"
        },
        {
         "name": "agency_url",
         "rawType": "object",
         "type": "string"
        },
        {
         "name": "agency_timezone",
         "rawType": "object",
         "type": "string"
        },
        {
         "name": "agency_lang",
         "rawType": "object",
         "type": "unknown"
        },
        {
         "name": "agency_phone",
         "rawType": "object",
         "type": "string"
        }
       ],
       "ref": "9b951483-2d18-4ab2-84d7-0bb853c3dfff",
       "rows": [
        [
         "0",
         "124",
         "Eisenbahnen und Verkehrsbetriebe Elbe-Weser GmbH",
         "http://www.evb-elbe-weser.de/",
         "Europe/Berlin",
         "de",
         "+49 4281 9440"
        ],
        [
         "1",
         "219",
         "Verkehrsbetriebe Wesermarsch GmbH",
         "http://www.vbw-wesermarsch.jimdo.com/",
         "Europe/Berlin",
         "de",
         "+49 4731 8640"
        ],
        [
         "2",
         "266",
         "Weserfähre GmbH",
         "http://www.weserfaehre.de/",
         "Europe/Berlin",
         "de",
         "+49 471 3003600"
        ],
        [
         "3",
         "1655",
         "Eisenbahnen und Verkehrsbetriebe Elbe-Weser GmbH(Bahndaten)",
         "http://www.evb-elbe-weser.de/startseite/",
         "Europe/Berlin",
         "de",
         "+49 4761 9931-0"
        ],
        [
         "4",
         "2365",
         "Weserfähre Bremen",
         "https://www.faehren-bremen.de/",
         "Europe/Berlin",
         "de",
         "+49421 - 69 03 69"
        ],
        [
         "5",
         "2400",
         "Weser-Ems-Bus Betrieb Ostfriesland",
         "http://www.weser-ems-bus.de/",
         "Europe/Berlin",
         "de",
         "+4949192536-0"
        ],
        [
         "6",
         "2401",
         "Weser-Ems-Bus Betrieb Bremen",
         "http://www.weser-ems-bus.de/",
         "Europe/Berlin",
         "de",
         "+49 421 89777603"
        ],
        [
         "7",
         "2402",
         "Weser-Ems-Bus Betrieb Osnabrück",
         "http://www.weser-ems-bus.de/",
         "Europe/Berlin",
         "de",
         "+49 54197061650"
        ],
        [
         "8",
         "2403",
         "Weser-Ems-Bus Auftragnehmerleistungen",
         "http://www.weser-ems-bus.de/",
         "Europe/Berlin",
         "de",
         "+49 421 89777603"
        ],
        [
         "9",
         "3030",
         "MEW Mobilitätszentrale Elbe-Weser",
         "https://mew-mobility.de",
         "Europe/Berlin",
         null,
         "+49 (0)4778 2179980"
        ]
       ],
       "shape": {
        "columns": 6,
        "rows": 10
       }
      },
      "text/html": [
       "<div>\n",
       "<style scoped>\n",
       "    .dataframe tbody tr th:only-of-type {\n",
       "        vertical-align: middle;\n",
       "    }\n",
       "\n",
       "    .dataframe tbody tr th {\n",
       "        vertical-align: top;\n",
       "    }\n",
       "\n",
       "    .dataframe thead th {\n",
       "        text-align: right;\n",
       "    }\n",
       "</style>\n",
       "<table border=\"1\" class=\"dataframe\">\n",
       "  <thead>\n",
       "    <tr style=\"text-align: right;\">\n",
       "      <th></th>\n",
       "      <th>agency_id</th>\n",
       "      <th>agency_name</th>\n",
       "      <th>agency_url</th>\n",
       "      <th>agency_timezone</th>\n",
       "      <th>agency_lang</th>\n",
       "      <th>agency_phone</th>\n",
       "    </tr>\n",
       "  </thead>\n",
       "  <tbody>\n",
       "    <tr>\n",
       "      <th>0</th>\n",
       "      <td>124</td>\n",
       "      <td>Eisenbahnen und Verkehrsbetriebe Elbe-Weser GmbH</td>\n",
       "      <td>http://www.evb-elbe-weser.de/</td>\n",
       "      <td>Europe/Berlin</td>\n",
       "      <td>de</td>\n",
       "      <td>+49 4281 9440</td>\n",
       "    </tr>\n",
       "    <tr>\n",
       "      <th>1</th>\n",
       "      <td>219</td>\n",
       "      <td>Verkehrsbetriebe Wesermarsch GmbH</td>\n",
       "      <td>http://www.vbw-wesermarsch.jimdo.com/</td>\n",
       "      <td>Europe/Berlin</td>\n",
       "      <td>de</td>\n",
       "      <td>+49 4731 8640</td>\n",
       "    </tr>\n",
       "    <tr>\n",
       "      <th>2</th>\n",
       "      <td>266</td>\n",
       "      <td>Weserfähre GmbH</td>\n",
       "      <td>http://www.weserfaehre.de/</td>\n",
       "      <td>Europe/Berlin</td>\n",
       "      <td>de</td>\n",
       "      <td>+49 471 3003600</td>\n",
       "    </tr>\n",
       "    <tr>\n",
       "      <th>3</th>\n",
       "      <td>1655</td>\n",
       "      <td>Eisenbahnen und Verkehrsbetriebe Elbe-Weser Gm...</td>\n",
       "      <td>http://www.evb-elbe-weser.de/startseite/</td>\n",
       "      <td>Europe/Berlin</td>\n",
       "      <td>de</td>\n",
       "      <td>+49 4761 9931-0</td>\n",
       "    </tr>\n",
       "    <tr>\n",
       "      <th>4</th>\n",
       "      <td>2365</td>\n",
       "      <td>Weserfähre Bremen</td>\n",
       "      <td>https://www.faehren-bremen.de/</td>\n",
       "      <td>Europe/Berlin</td>\n",
       "      <td>de</td>\n",
       "      <td>+49421 - 69 03 69</td>\n",
       "    </tr>\n",
       "    <tr>\n",
       "      <th>5</th>\n",
       "      <td>2400</td>\n",
       "      <td>Weser-Ems-Bus Betrieb Ostfriesland</td>\n",
       "      <td>http://www.weser-ems-bus.de/</td>\n",
       "      <td>Europe/Berlin</td>\n",
       "      <td>de</td>\n",
       "      <td>+4949192536-0</td>\n",
       "    </tr>\n",
       "    <tr>\n",
       "      <th>6</th>\n",
       "      <td>2401</td>\n",
       "      <td>Weser-Ems-Bus Betrieb Bremen</td>\n",
       "      <td>http://www.weser-ems-bus.de/</td>\n",
       "      <td>Europe/Berlin</td>\n",
       "      <td>de</td>\n",
       "      <td>+49 421 89777603</td>\n",
       "    </tr>\n",
       "    <tr>\n",
       "      <th>7</th>\n",
       "      <td>2402</td>\n",
       "      <td>Weser-Ems-Bus Betrieb Osnabrück</td>\n",
       "      <td>http://www.weser-ems-bus.de/</td>\n",
       "      <td>Europe/Berlin</td>\n",
       "      <td>de</td>\n",
       "      <td>+49 54197061650</td>\n",
       "    </tr>\n",
       "    <tr>\n",
       "      <th>8</th>\n",
       "      <td>2403</td>\n",
       "      <td>Weser-Ems-Bus Auftragnehmerleistungen</td>\n",
       "      <td>http://www.weser-ems-bus.de/</td>\n",
       "      <td>Europe/Berlin</td>\n",
       "      <td>de</td>\n",
       "      <td>+49 421 89777603</td>\n",
       "    </tr>\n",
       "    <tr>\n",
       "      <th>9</th>\n",
       "      <td>3030</td>\n",
       "      <td>MEW Mobilitätszentrale Elbe-Weser</td>\n",
       "      <td>https://mew-mobility.de</td>\n",
       "      <td>Europe/Berlin</td>\n",
       "      <td>None</td>\n",
       "      <td>+49 (0)4778 2179980</td>\n",
       "    </tr>\n",
       "  </tbody>\n",
       "</table>\n",
       "</div>"
      ],
      "text/plain": [
       "   agency_id                                        agency_name  \\\n",
       "0        124   Eisenbahnen und Verkehrsbetriebe Elbe-Weser GmbH   \n",
       "1        219                  Verkehrsbetriebe Wesermarsch GmbH   \n",
       "2        266                                    Weserfähre GmbH   \n",
       "3       1655  Eisenbahnen und Verkehrsbetriebe Elbe-Weser Gm...   \n",
       "4       2365                                  Weserfähre Bremen   \n",
       "5       2400                 Weser-Ems-Bus Betrieb Ostfriesland   \n",
       "6       2401                       Weser-Ems-Bus Betrieb Bremen   \n",
       "7       2402                    Weser-Ems-Bus Betrieb Osnabrück   \n",
       "8       2403              Weser-Ems-Bus Auftragnehmerleistungen   \n",
       "9       3030                  MEW Mobilitätszentrale Elbe-Weser   \n",
       "\n",
       "                                 agency_url agency_timezone agency_lang  \\\n",
       "0             http://www.evb-elbe-weser.de/   Europe/Berlin          de   \n",
       "1     http://www.vbw-wesermarsch.jimdo.com/   Europe/Berlin          de   \n",
       "2                http://www.weserfaehre.de/   Europe/Berlin          de   \n",
       "3  http://www.evb-elbe-weser.de/startseite/   Europe/Berlin          de   \n",
       "4            https://www.faehren-bremen.de/   Europe/Berlin          de   \n",
       "5              http://www.weser-ems-bus.de/   Europe/Berlin          de   \n",
       "6              http://www.weser-ems-bus.de/   Europe/Berlin          de   \n",
       "7              http://www.weser-ems-bus.de/   Europe/Berlin          de   \n",
       "8              http://www.weser-ems-bus.de/   Europe/Berlin          de   \n",
       "9                   https://mew-mobility.de   Europe/Berlin        None   \n",
       "\n",
       "          agency_phone  \n",
       "0        +49 4281 9440  \n",
       "1        +49 4731 8640  \n",
       "2      +49 471 3003600  \n",
       "3      +49 4761 9931-0  \n",
       "4    +49421 - 69 03 69  \n",
       "5        +4949192536-0  \n",
       "6     +49 421 89777603  \n",
       "7      +49 54197061650  \n",
       "8     +49 421 89777603  \n",
       "9  +49 (0)4778 2179980  "
      ]
     },
     "execution_count": 18,
     "metadata": {},
     "output_type": "execute_result"
    }
   ],
   "source": [
    "duck.sql(\"from agency where lower(agency_name) like lower('%Weser%') \").df()"
   ]
  },
  {
   "cell_type": "markdown",
   "id": "b4054e03",
   "metadata": {},
   "source": [
    "## Einlesen Protobuf"
   ]
  },
  {
   "cell_type": "code",
   "execution_count": 19,
   "id": "e6554a79",
   "metadata": {},
   "outputs": [],
   "source": [
    "feed = gtfs_realtime_pb2.FeedMessage()\n",
    "response = requests.get(url)\n",
    "feed.ParseFromString(response.content)\n",
    "trip_updates = []\n",
    "stop_time_updates = []\n",
    "is_deleted = []\n",
    "for entity in feed.entity:\n",
    "    #print(entity)\n",
    "    id = entity.id\n",
    "    #print(id)\n",
    "\n",
    "    if entity.HasField('trip_update'):\n",
    "    #     print(entity.trip_update)\n",
    "    #     #print(entity.trip.trip_id)\n",
    "        # print('tu: ',entity.trip_update.trip.trip_id, \n",
    "        #       entity.trip_update.trip.route_id, \n",
    "        #        entity.trip_update.trip.start_time, \n",
    "        #        entity.trip_update.trip.start_date,\n",
    "        #        entity.trip_update.trip.direction_id,\n",
    "        #        entity.trip_update.trip.schedule_relationship,\n",
    "        #        )\n",
    "        trip_updates.append([entity.trip_update.trip.trip_id, entity.trip_update.trip.route_id, \n",
    "                             entity.trip_update.trip.start_time, entity.trip_update.trip.start_date, \n",
    "                             entity.trip_update.trip.schedule_relationship])\n",
    "        \n",
    "        if entity.trip_update.stop_time_update:\n",
    "            for stu in entity.trip_update.stop_time_update:\n",
    "                #print('stu: ', stu.stop_sequence, stu.stop_id, 'dep: ',stu.departure, ' arr:', stu.arrival)\n",
    "                stop_time_updates.append([entity.trip_update.trip.trip_id, \n",
    "                                  stu.stop_sequence,\n",
    "                                  stu.stop_id,\n",
    "                                  stu.departure.delay,\n",
    "                                  stu.arrival.delay])\n",
    "               \n",
    "\n",
    "    if entity.HasField('alert'):\n",
    "        print(entity.alert)\n",
    "\n",
    "    if entity.HasField('is_deleted'):\n",
    "        print(entity.is_deleted)\n",
    "    \n"
   ]
  },
  {
   "cell_type": "code",
   "execution_count": 20,
   "id": "02e8a463",
   "metadata": {},
   "outputs": [
    {
     "data": {
      "application/vnd.microsoft.datawrangler.viewer.v0+json": {
       "columns": [
        {
         "name": "index",
         "rawType": "int64",
         "type": "integer"
        },
        {
         "name": "trip_id",
         "rawType": "object",
         "type": "string"
        },
        {
         "name": "route_id",
         "rawType": "object",
         "type": "string"
        },
        {
         "name": "start_time",
         "rawType": "object",
         "type": "string"
        },
        {
         "name": "start_date",
         "rawType": "object",
         "type": "string"
        },
        {
         "name": "schedule_relationship",
         "rawType": "int64",
         "type": "integer"
        }
       ],
       "ref": "f2928f85-9705-46c3-a947-b1afbeb8d43f",
       "rows": [
        [
         "0",
         "425058392",
         "76094_3",
         "16:46:00",
         "20250708",
         "0"
        ],
        [
         "1",
         "429160284",
         "14246_3",
         "16:16:00",
         "20250708",
         "0"
        ],
        [
         "2",
         "400157395",
         "65695_3",
         "18:39:00",
         "20250708",
         "0"
        ],
        [
         "3",
         "429158533",
         "14224_3",
         "17:48:00",
         "20250708",
         "0"
        ],
        [
         "4",
         "429095647",
         "35755_0",
         "18:41:00",
         "20250708",
         "0"
        ],
        [
         "5",
         "397786295",
         "63792_3",
         "15:59:00",
         "20250708",
         "0"
        ],
        [
         "6",
         "429167721",
         "31483_3",
         "17:03:00",
         "20250708",
         "0"
        ],
        [
         "7",
         "430440207",
         "62971_109",
         "21:10:00",
         "20250708",
         "0"
        ],
        [
         "8",
         "420212935",
         "25605_3",
         "18:27:00",
         "20250708",
         "0"
        ],
        [
         "9",
         "425003543",
         "26245_0",
         "17:46:00",
         "20250708",
         "0"
        ],
        [
         "10",
         "409245054",
         "74582_3",
         "17:15:00",
         "20250708",
         "0"
        ],
        [
         "11",
         "430369076",
         "44911_2",
         "04:30:00",
         "20250709",
         "0"
        ],
        [
         "12",
         "429165133",
         "31828_3",
         "16:47:00",
         "20250708",
         "0"
        ],
        [
         "13",
         "430739810",
         "44889_3",
         "18:11:00",
         "20250708",
         "0"
        ],
        [
         "14",
         "430249516",
         "68245_2",
         "17:11:00",
         "20250708",
         "3"
        ],
        [
         "15",
         "429166387",
         "14299_3",
         "17:46:00",
         "20250708",
         "0"
        ],
        [
         "16",
         "429053263",
         "14783_3",
         "17:12:00",
         "20250708",
         "0"
        ],
        [
         "17",
         "429167908",
         "14910_3",
         "18:34:00",
         "20250708",
         "0"
        ],
        [
         "18",
         "429098357",
         "35732_3",
         "17:07:00",
         "20250708",
         "0"
        ],
        [
         "19",
         "429126336",
         "14152_1",
         "18:23:00",
         "20250708",
         "0"
        ],
        [
         "20",
         "425035602",
         "76085_3",
         "16:58:40",
         "20250708",
         "0"
        ],
        [
         "21",
         "429170508",
         "46214_3",
         "16:11:00",
         "20250708",
         "0"
        ],
        [
         "22",
         "429170821",
         "46218_3",
         "16:25:00",
         "20250708",
         "0"
        ],
        [
         "23",
         "430249518",
         "68245_2",
         "19:41:00",
         "20250708",
         "3"
        ],
        [
         "24",
         "425729283",
         "35735_3",
         "17:25:00",
         "20250708",
         "0"
        ],
        [
         "25",
         "407701595",
         "35660_3",
         "19:14:00",
         "20250708",
         "0"
        ],
        [
         "26",
         "390507850",
         "22175_3",
         "16:43:00",
         "20250708",
         "0"
        ],
        [
         "27",
         "429033170",
         "72646_3",
         "16:31:00",
         "20250708",
         "0"
        ],
        [
         "28",
         "429162845",
         "31817_3",
         "17:55:00",
         "20250708",
         "0"
        ],
        [
         "29",
         "407702608",
         "14111_3",
         "17:00:00",
         "20250708",
         "0"
        ],
        [
         "30",
         "412452231",
         "31618_3",
         "16:43:00",
         "20250708",
         "0"
        ],
        [
         "31",
         "429157139",
         "48285_3",
         "17:12:00",
         "20250708",
         "0"
        ],
        [
         "32",
         "430369094",
         "44911_2",
         "08:05:00",
         "20250709",
         "0"
        ],
        [
         "33",
         "407703320",
         "35662_3",
         "20:31:00",
         "20250708",
         "0"
        ],
        [
         "34",
         "430282571",
         "43245_2",
         "14:35:00",
         "20250709",
         "0"
        ],
        [
         "35",
         "429155654",
         "68892_3",
         "17:45:00",
         "20250708",
         "0"
        ],
        [
         "36",
         "430441805",
         "62976_109",
         "17:05:00",
         "20250708",
         "0"
        ],
        [
         "37",
         "390507959",
         "22176_3",
         "18:03:00",
         "20250708",
         "0"
        ],
        [
         "38",
         "412452951",
         "31619_3",
         "17:54:00",
         "20250708",
         "0"
        ],
        [
         "39",
         "429137249",
         "14160_3",
         "18:04:00",
         "20250708",
         "0"
        ],
        [
         "40",
         "430283102",
         "43245_2",
         "22:20:00",
         "20250708",
         "0"
        ],
        [
         "41",
         "429143386",
         "14167_3",
         "17:13:00",
         "20250708",
         "0"
        ],
        [
         "42",
         "429156915",
         "14211_3",
         "18:11:00",
         "20250708",
         "0"
        ],
        [
         "43",
         "428367750",
         "84156_3",
         "18:00:00",
         "20250708",
         "0"
        ],
        [
         "44",
         "423567280",
         "76236_3",
         "16:33:00",
         "20250708",
         "0"
        ],
        [
         "45",
         "422968903",
         "46902_3",
         "17:10:00",
         "20250708",
         "0"
        ],
        [
         "46",
         "430440512",
         "62971_109",
         "19:51:00",
         "20250708",
         "0"
        ],
        [
         "47",
         "429131389",
         "14157_1",
         "18:20:00",
         "20250708",
         "0"
        ],
        [
         "48",
         "427016757",
         "24381_3",
         "16:45:00",
         "20250708",
         "0"
        ],
        [
         "49",
         "415176158",
         "35893_3",
         "17:03:00",
         "20250708",
         "0"
        ]
       ],
       "shape": {
        "columns": 5,
        "rows": 6950
       }
      },
      "text/html": [
       "<div>\n",
       "<style scoped>\n",
       "    .dataframe tbody tr th:only-of-type {\n",
       "        vertical-align: middle;\n",
       "    }\n",
       "\n",
       "    .dataframe tbody tr th {\n",
       "        vertical-align: top;\n",
       "    }\n",
       "\n",
       "    .dataframe thead th {\n",
       "        text-align: right;\n",
       "    }\n",
       "</style>\n",
       "<table border=\"1\" class=\"dataframe\">\n",
       "  <thead>\n",
       "    <tr style=\"text-align: right;\">\n",
       "      <th></th>\n",
       "      <th>trip_id</th>\n",
       "      <th>route_id</th>\n",
       "      <th>start_time</th>\n",
       "      <th>start_date</th>\n",
       "      <th>schedule_relationship</th>\n",
       "    </tr>\n",
       "  </thead>\n",
       "  <tbody>\n",
       "    <tr>\n",
       "      <th>0</th>\n",
       "      <td>425058392</td>\n",
       "      <td>76094_3</td>\n",
       "      <td>16:46:00</td>\n",
       "      <td>20250708</td>\n",
       "      <td>0</td>\n",
       "    </tr>\n",
       "    <tr>\n",
       "      <th>1</th>\n",
       "      <td>429160284</td>\n",
       "      <td>14246_3</td>\n",
       "      <td>16:16:00</td>\n",
       "      <td>20250708</td>\n",
       "      <td>0</td>\n",
       "    </tr>\n",
       "    <tr>\n",
       "      <th>2</th>\n",
       "      <td>400157395</td>\n",
       "      <td>65695_3</td>\n",
       "      <td>18:39:00</td>\n",
       "      <td>20250708</td>\n",
       "      <td>0</td>\n",
       "    </tr>\n",
       "    <tr>\n",
       "      <th>3</th>\n",
       "      <td>429158533</td>\n",
       "      <td>14224_3</td>\n",
       "      <td>17:48:00</td>\n",
       "      <td>20250708</td>\n",
       "      <td>0</td>\n",
       "    </tr>\n",
       "    <tr>\n",
       "      <th>4</th>\n",
       "      <td>429095647</td>\n",
       "      <td>35755_0</td>\n",
       "      <td>18:41:00</td>\n",
       "      <td>20250708</td>\n",
       "      <td>0</td>\n",
       "    </tr>\n",
       "    <tr>\n",
       "      <th>...</th>\n",
       "      <td>...</td>\n",
       "      <td>...</td>\n",
       "      <td>...</td>\n",
       "      <td>...</td>\n",
       "      <td>...</td>\n",
       "    </tr>\n",
       "    <tr>\n",
       "      <th>6945</th>\n",
       "      <td>##VDV##COMPOSED;JI~DOO;7163641#Bus#!ADD!#DDS-S...</td>\n",
       "      <td>63220_2</td>\n",
       "      <td>19:12:00</td>\n",
       "      <td>20250708</td>\n",
       "      <td>1</td>\n",
       "    </tr>\n",
       "    <tr>\n",
       "      <th>6946</th>\n",
       "      <td>##VDV##COMPOSED;JI~DOO;2949-80-8000152-143600#...</td>\n",
       "      <td>44911_2</td>\n",
       "      <td>14:36:00</td>\n",
       "      <td>20250708</td>\n",
       "      <td>1</td>\n",
       "    </tr>\n",
       "    <tr>\n",
       "      <th>6947</th>\n",
       "      <td>##VDV##COMPOSED;JI~DOO;3944006-00006-2#!ADD!#B...</td>\n",
       "      <td>35727_3</td>\n",
       "      <td>17:34:00</td>\n",
       "      <td>20250708</td>\n",
       "      <td>1</td>\n",
       "    </tr>\n",
       "    <tr>\n",
       "      <th>6948</th>\n",
       "      <td>##VDV##COMPOSED;JI~DOO;3945006-00006-2#!ADD!#B...</td>\n",
       "      <td>35715_3</td>\n",
       "      <td>18:06:00</td>\n",
       "      <td>20250708</td>\n",
       "      <td>1</td>\n",
       "    </tr>\n",
       "    <tr>\n",
       "      <th>6949</th>\n",
       "      <td>##VDV##COMPOSED;JI~DOO;2927-80-8011102-091200#...</td>\n",
       "      <td>84251_4</td>\n",
       "      <td>09:12:00</td>\n",
       "      <td>20250708</td>\n",
       "      <td>1</td>\n",
       "    </tr>\n",
       "  </tbody>\n",
       "</table>\n",
       "<p>6950 rows × 5 columns</p>\n",
       "</div>"
      ],
      "text/plain": [
       "                                                trip_id route_id start_time  \\\n",
       "0                                             425058392  76094_3   16:46:00   \n",
       "1                                             429160284  14246_3   16:16:00   \n",
       "2                                             400157395  65695_3   18:39:00   \n",
       "3                                             429158533  14224_3   17:48:00   \n",
       "4                                             429095647  35755_0   18:41:00   \n",
       "...                                                 ...      ...        ...   \n",
       "6945  ##VDV##COMPOSED;JI~DOO;7163641#Bus#!ADD!#DDS-S...  63220_2   19:12:00   \n",
       "6946  ##VDV##COMPOSED;JI~DOO;2949-80-8000152-143600#...  44911_2   14:36:00   \n",
       "6947  ##VDV##COMPOSED;JI~DOO;3944006-00006-2#!ADD!#B...  35727_3   17:34:00   \n",
       "6948  ##VDV##COMPOSED;JI~DOO;3945006-00006-2#!ADD!#B...  35715_3   18:06:00   \n",
       "6949  ##VDV##COMPOSED;JI~DOO;2927-80-8011102-091200#...  84251_4   09:12:00   \n",
       "\n",
       "     start_date  schedule_relationship  \n",
       "0      20250708                      0  \n",
       "1      20250708                      0  \n",
       "2      20250708                      0  \n",
       "3      20250708                      0  \n",
       "4      20250708                      0  \n",
       "...         ...                    ...  \n",
       "6945   20250708                      1  \n",
       "6946   20250708                      1  \n",
       "6947   20250708                      1  \n",
       "6948   20250708                      1  \n",
       "6949   20250708                      1  \n",
       "\n",
       "[6950 rows x 5 columns]"
      ]
     },
     "execution_count": 20,
     "metadata": {},
     "output_type": "execute_result"
    }
   ],
   "source": [
    "trip_updates_df = pd.DataFrame(trip_updates, columns=['trip_id', 'route_id', 'start_time', 'start_date', 'schedule_relationship'])\n",
    "trip_updates_df"
   ]
  },
  {
   "cell_type": "code",
   "execution_count": 21,
   "id": "49f2b7d6",
   "metadata": {},
   "outputs": [
    {
     "data": {
      "application/vnd.microsoft.datawrangler.viewer.v0+json": {
       "columns": [
        {
         "name": "index",
         "rawType": "int64",
         "type": "integer"
        },
        {
         "name": "trip_id",
         "rawType": "object",
         "type": "string"
        },
        {
         "name": "stop_sequence",
         "rawType": "int64",
         "type": "integer"
        },
        {
         "name": "stop_id",
         "rawType": "object",
         "type": "string"
        },
        {
         "name": "departure",
         "rawType": "int64",
         "type": "integer"
        },
        {
         "name": "arrival",
         "rawType": "int64",
         "type": "integer"
        }
       ],
       "ref": "48ed2f9c-5d11-4de7-a0ae-a3691cc559e4",
       "rows": [
        [
         "0",
         "425058392",
         "0",
         "000000708566",
         "0",
         "0"
        ],
        [
         "1",
         "425058392",
         "2",
         "000000704978",
         "0",
         "-77"
        ],
        [
         "2",
         "429160284",
         "0",
         "000000905001",
         "197",
         "0"
        ],
        [
         "3",
         "429160284",
         "1",
         "000000905011",
         "223",
         "223"
        ],
        [
         "4",
         "429160284",
         "2",
         "000000905063",
         "279",
         "272"
        ],
        [
         "5",
         "429160284",
         "3",
         "000000905013",
         "221",
         "221"
        ],
        [
         "6",
         "429160284",
         "4",
         "000000905021",
         "232",
         "217"
        ],
        [
         "7",
         "429160284",
         "5",
         "000000905031",
         "236",
         "221"
        ],
        [
         "8",
         "429160284",
         "6",
         "000000905040",
         "240",
         "221"
        ],
        [
         "9",
         "429160284",
         "7",
         "000000905041",
         "253",
         "253"
        ],
        [
         "10",
         "429160284",
         "8",
         "000000905706",
         "279",
         "261"
        ],
        [
         "11",
         "429160284",
         "9",
         "000000905704",
         "309",
         "270"
        ],
        [
         "12",
         "429160284",
         "10",
         "000000905714",
         "318",
         "318"
        ],
        [
         "13",
         "429160284",
         "11",
         "000000905724",
         "324",
         "311"
        ],
        [
         "14",
         "429160284",
         "12",
         "000000905726",
         "269",
         "269"
        ],
        [
         "15",
         "429160284",
         "13",
         "000000905742",
         "244",
         "226"
        ],
        [
         "16",
         "429160284",
         "14",
         "000000905862",
         "273",
         "258"
        ],
        [
         "17",
         "429160284",
         "15",
         "000000905738",
         "268",
         "268"
        ],
        [
         "18",
         "429160284",
         "16",
         "000000905744",
         "252",
         "236"
        ],
        [
         "19",
         "429160284",
         "17",
         "000000905746",
         "294",
         "294"
        ],
        [
         "20",
         "429160284",
         "18",
         "000000905752",
         "298",
         "298"
        ],
        [
         "21",
         "400157395",
         "0",
         "000009080084",
         "0",
         "0"
        ],
        [
         "22",
         "400157395",
         "18",
         "000009068775",
         "-30",
         "-30"
        ],
        [
         "23",
         "400157395",
         "19",
         "000009068746",
         "0",
         "0"
        ],
        [
         "24",
         "400157395",
         "20",
         "000009068773",
         "-30",
         "-30"
        ],
        [
         "25",
         "400157395",
         "21",
         "000009068771",
         "0",
         "0"
        ],
        [
         "26",
         "429158533",
         "0",
         "000000904882",
         "0",
         "0"
        ],
        [
         "27",
         "429158533",
         "3",
         "000000904884",
         "-30",
         "-30"
        ],
        [
         "28",
         "429158533",
         "4",
         "000000904886",
         "0",
         "0"
        ],
        [
         "29",
         "429095647",
         "0",
         "000009014285",
         "0",
         "0"
        ],
        [
         "30",
         "429095647",
         "1",
         "000009013963",
         "0",
         "-12"
        ],
        [
         "31",
         "429095647",
         "2",
         "000009013890",
         "18",
         "6"
        ],
        [
         "32",
         "429095647",
         "3",
         "000009014206",
         "6",
         "-6"
        ],
        [
         "33",
         "429095647",
         "4",
         "000009014098",
         "0",
         "-12"
        ],
        [
         "34",
         "429095647",
         "5",
         "000009014284",
         "6",
         "-6"
        ],
        [
         "35",
         "429095647",
         "6",
         "000009014201",
         "-36",
         "-54"
        ],
        [
         "36",
         "429095647",
         "7",
         "000009013786",
         "-12",
         "-24"
        ],
        [
         "37",
         "429095647",
         "8",
         "000009014193",
         "6",
         "-6"
        ],
        [
         "38",
         "429095647",
         "9",
         "000009013973",
         "-36",
         "-48"
        ],
        [
         "39",
         "429095647",
         "10",
         "000009013683",
         "-36",
         "-48"
        ],
        [
         "40",
         "429095647",
         "12",
         "000009013925",
         "-36",
         "-72"
        ],
        [
         "41",
         "429095647",
         "13",
         "000009013858",
         "-30",
         "-42"
        ],
        [
         "42",
         "429095647",
         "14",
         "000009013818",
         "-18",
         "-30"
        ],
        [
         "43",
         "429095647",
         "15",
         "000009013833",
         "-24",
         "-36"
        ],
        [
         "44",
         "429095647",
         "16",
         "000009013912",
         "-30",
         "-42"
        ],
        [
         "45",
         "429095647",
         "17",
         "000009013919",
         "-36",
         "-48"
        ],
        [
         "46",
         "429095647",
         "18",
         "000009014271",
         "-36",
         "-48"
        ],
        [
         "47",
         "429095647",
         "19",
         "000009014251",
         "-18",
         "-30"
        ],
        [
         "48",
         "429095647",
         "20",
         "000009013907",
         "-36",
         "-48"
        ],
        [
         "49",
         "429095647",
         "21",
         "000009014265",
         "18",
         "6"
        ]
       ],
       "shape": {
        "columns": 5,
        "rows": 39175
       }
      },
      "text/html": [
       "<div>\n",
       "<style scoped>\n",
       "    .dataframe tbody tr th:only-of-type {\n",
       "        vertical-align: middle;\n",
       "    }\n",
       "\n",
       "    .dataframe tbody tr th {\n",
       "        vertical-align: top;\n",
       "    }\n",
       "\n",
       "    .dataframe thead th {\n",
       "        text-align: right;\n",
       "    }\n",
       "</style>\n",
       "<table border=\"1\" class=\"dataframe\">\n",
       "  <thead>\n",
       "    <tr style=\"text-align: right;\">\n",
       "      <th></th>\n",
       "      <th>trip_id</th>\n",
       "      <th>stop_sequence</th>\n",
       "      <th>stop_id</th>\n",
       "      <th>departure</th>\n",
       "      <th>arrival</th>\n",
       "    </tr>\n",
       "  </thead>\n",
       "  <tbody>\n",
       "    <tr>\n",
       "      <th>0</th>\n",
       "      <td>425058392</td>\n",
       "      <td>0</td>\n",
       "      <td>000000708566</td>\n",
       "      <td>0</td>\n",
       "      <td>0</td>\n",
       "    </tr>\n",
       "    <tr>\n",
       "      <th>1</th>\n",
       "      <td>425058392</td>\n",
       "      <td>2</td>\n",
       "      <td>000000704978</td>\n",
       "      <td>0</td>\n",
       "      <td>-77</td>\n",
       "    </tr>\n",
       "    <tr>\n",
       "      <th>2</th>\n",
       "      <td>429160284</td>\n",
       "      <td>0</td>\n",
       "      <td>000000905001</td>\n",
       "      <td>197</td>\n",
       "      <td>0</td>\n",
       "    </tr>\n",
       "    <tr>\n",
       "      <th>3</th>\n",
       "      <td>429160284</td>\n",
       "      <td>1</td>\n",
       "      <td>000000905011</td>\n",
       "      <td>223</td>\n",
       "      <td>223</td>\n",
       "    </tr>\n",
       "    <tr>\n",
       "      <th>4</th>\n",
       "      <td>429160284</td>\n",
       "      <td>2</td>\n",
       "      <td>000000905063</td>\n",
       "      <td>279</td>\n",
       "      <td>272</td>\n",
       "    </tr>\n",
       "    <tr>\n",
       "      <th>...</th>\n",
       "      <td>...</td>\n",
       "      <td>...</td>\n",
       "      <td>...</td>\n",
       "      <td>...</td>\n",
       "      <td>...</td>\n",
       "    </tr>\n",
       "    <tr>\n",
       "      <th>39170</th>\n",
       "      <td>##VDV##COMPOSED;JI~DOO;2927-80-8011102-091200#...</td>\n",
       "      <td>12</td>\n",
       "      <td>8000096</td>\n",
       "      <td>1020</td>\n",
       "      <td>1020</td>\n",
       "    </tr>\n",
       "    <tr>\n",
       "      <th>39171</th>\n",
       "      <td>##VDV##COMPOSED;JI~DOO;2927-80-8011102-091200#...</td>\n",
       "      <td>13</td>\n",
       "      <td>8000170</td>\n",
       "      <td>1200</td>\n",
       "      <td>1140</td>\n",
       "    </tr>\n",
       "    <tr>\n",
       "      <th>39172</th>\n",
       "      <td>##VDV##COMPOSED;JI~DOO;2927-80-8011102-091200#...</td>\n",
       "      <td>14</td>\n",
       "      <td>8000013</td>\n",
       "      <td>1500</td>\n",
       "      <td>1440</td>\n",
       "    </tr>\n",
       "    <tr>\n",
       "      <th>39173</th>\n",
       "      <td>##VDV##COMPOSED;JI~DOO;2927-80-8011102-091200#...</td>\n",
       "      <td>15</td>\n",
       "      <td>8004158</td>\n",
       "      <td>1380</td>\n",
       "      <td>1380</td>\n",
       "    </tr>\n",
       "    <tr>\n",
       "      <th>39174</th>\n",
       "      <td>##VDV##COMPOSED;JI~DOO;2927-80-8011102-091200#...</td>\n",
       "      <td>16</td>\n",
       "      <td>8000261</td>\n",
       "      <td>0</td>\n",
       "      <td>1140</td>\n",
       "    </tr>\n",
       "  </tbody>\n",
       "</table>\n",
       "<p>39175 rows × 5 columns</p>\n",
       "</div>"
      ],
      "text/plain": [
       "                                                 trip_id  stop_sequence  \\\n",
       "0                                              425058392              0   \n",
       "1                                              425058392              2   \n",
       "2                                              429160284              0   \n",
       "3                                              429160284              1   \n",
       "4                                              429160284              2   \n",
       "...                                                  ...            ...   \n",
       "39170  ##VDV##COMPOSED;JI~DOO;2927-80-8011102-091200#...             12   \n",
       "39171  ##VDV##COMPOSED;JI~DOO;2927-80-8011102-091200#...             13   \n",
       "39172  ##VDV##COMPOSED;JI~DOO;2927-80-8011102-091200#...             14   \n",
       "39173  ##VDV##COMPOSED;JI~DOO;2927-80-8011102-091200#...             15   \n",
       "39174  ##VDV##COMPOSED;JI~DOO;2927-80-8011102-091200#...             16   \n",
       "\n",
       "            stop_id  departure  arrival  \n",
       "0      000000708566          0        0  \n",
       "1      000000704978          0      -77  \n",
       "2      000000905001        197        0  \n",
       "3      000000905011        223      223  \n",
       "4      000000905063        279      272  \n",
       "...             ...        ...      ...  \n",
       "39170       8000096       1020     1020  \n",
       "39171       8000170       1200     1140  \n",
       "39172       8000013       1500     1440  \n",
       "39173       8004158       1380     1380  \n",
       "39174       8000261          0     1140  \n",
       "\n",
       "[39175 rows x 5 columns]"
      ]
     },
     "execution_count": 21,
     "metadata": {},
     "output_type": "execute_result"
    }
   ],
   "source": [
    "stop_time_updates_df = pd.DataFrame(stop_time_updates, columns=['trip_id', 'stop_sequence', 'stop_id', 'departure', 'arrival'])\n",
    "stop_time_updates_df"
   ]
  },
  {
   "cell_type": "code",
   "execution_count": 22,
   "id": "1ba5ebef",
   "metadata": {},
   "outputs": [],
   "source": [
    "duck.sql(\"\"\"create or replace table trip_updates as select * from trip_updates_df;\"\"\")\n",
    "duck.sql(\"\"\"create or replace table stop_times_updates as select * from stop_time_updates_df;\"\"\")"
   ]
  },
  {
   "cell_type": "code",
   "execution_count": 23,
   "id": "46d7dff5",
   "metadata": {},
   "outputs": [],
   "source": [
    "duck.sql(\"\"\"create or replace table trip_updates_vbn as\n",
    "         (select t.trip_id, a.agency_name, r.route_short_name, t.trip_short_name,t.trip_headsign,tu.start_time ,a.agency_id,  \n",
    "         stu.stop_sequence,stu.arrival, stu.departure, s.stop_name\n",
    "             from trips t\n",
    "             join routes r on t.route_id = r.route_id\n",
    "             join agency a on r.agency_id = a.agency_id             \n",
    "             join trip_updates tu on t.trip_id = tu.trip_id\n",
    "             join stop_times_updates stu on tu.trip_id = stu.trip_id\n",
    "             join stops s on stu.stop_id = s.stop_id\n",
    "             join lin_vbn lv on r.agency_id = lv.agency_id and r.route_id = lv.route_id\n",
    "           order by r.route_short_name, t.trip_short_name, stu.stop_sequence)\"\"\")"
   ]
  },
  {
   "cell_type": "code",
   "execution_count": 24,
   "id": "6ce3a6fb",
   "metadata": {},
   "outputs": [
    {
     "data": {
      "text/plain": [
       "┌───────────┬───────────────────────────────┬──────────────────┬─────────────────┬───────────────────────────────┬────────────┬───────────┬───────────────┬─────────┬───────────┬───────────────────────────────────────────┐\n",
       "│  trip_id  │          agency_name          │ route_short_name │ trip_short_name │         trip_headsign         │ start_time │ agency_id │ stop_sequence │ arrival │ departure │                 stop_name                 │\n",
       "│  varchar  │            varchar            │     varchar      │     varchar     │            varchar            │  varchar   │   int64   │     int64     │  int64  │   int64   │                  varchar                  │\n",
       "├───────────┼───────────────────────────────┼──────────────────┼─────────────────┼───────────────────────────────┼────────────┼───────────┼───────────────┼─────────┼───────────┼───────────────────────────────────────────┤\n",
       "│ 425725545 │ Bremer Straßenbahn AG         │ 1                │ 00257           │ Bf Mahndorf                   │ 15:52:00   │       326 │             0 │       0 │        30 │ Bremen Roland-Center                      │\n",
       "│ 425725545 │ Bremer Straßenbahn AG         │ 1                │ 00257           │ Bf Mahndorf                   │ 15:52:00   │       326 │             1 │      30 │        42 │ Bremen Norderländer Straße                │\n",
       "│ 425725545 │ Bremer Straßenbahn AG         │ 1                │ 00257           │ Bf Mahndorf                   │ 15:52:00   │       326 │             2 │      47 │        59 │ Bremen Bardenflethstraße                  │\n",
       "│ 425725545 │ Bremer Straßenbahn AG         │ 1                │ 00257           │ Bf Mahndorf                   │ 15:52:00   │       326 │             3 │      53 │        65 │ Bremen Solinger Straße                    │\n",
       "│ 425725545 │ Bremer Straßenbahn AG         │ 1                │ 00257           │ Bf Mahndorf                   │ 15:52:00   │       326 │             4 │      71 │        83 │ Bremen Duckwitzstraße                     │\n",
       "│ 425725545 │ Bremer Straßenbahn AG         │ 1                │ 00257           │ Bf Mahndorf                   │ 15:52:00   │       326 │             5 │      89 │       101 │ Bremen Neuenlander Straße                 │\n",
       "│ 425725545 │ Bremer Straßenbahn AG         │ 1                │ 00257           │ Bf Mahndorf                   │ 15:52:00   │       326 │             6 │     152 │       164 │ Bremen Pappelstraße                       │\n",
       "│ 425725545 │ Bremer Straßenbahn AG         │ 1                │ 00257           │ Bf Mahndorf                   │ 15:52:00   │       326 │             7 │     110 │       122 │ Bremen Hochschule Bremen                  │\n",
       "│ 425725545 │ Bremer Straßenbahn AG         │ 1                │ 00257           │ Bf Mahndorf                   │ 15:52:00   │       326 │             8 │     134 │       152 │ Bremen Westerstraße                       │\n",
       "│ 425725545 │ Bremer Straßenbahn AG         │ 1                │ 00257           │ Bf Mahndorf                   │ 15:52:00   │       326 │             9 │     146 │       164 │ Bremen Am Neuen Markt                     │\n",
       "│     ·     │           ·                   │ ·                │   ·             │      ·                        │    ·       │        ·  │             · │      ·  │        ·  │           ·                               │\n",
       "│     ·     │           ·                   │ ·                │   ·             │      ·                        │    ·       │        ·  │             · │      ·  │        ·  │           ·                               │\n",
       "│     ·     │           ·                   │ ·                │   ·             │      ·                        │    ·       │        ·  │             · │      ·  │        ·  │           ·                               │\n",
       "│ 415179520 │ Verkehr und Wasser GmbH (VWG) │ 322              │ 13385           │ Oldenburg(Oldb) Nordseestraße │ 18:50:00   │       106 │            19 │     -30 │       -30 │ Oldenburg(Oldb) Schellsteder Weg          │\n",
       "│ 415179520 │ Verkehr und Wasser GmbH (VWG) │ 322              │ 13385           │ Oldenburg(Oldb) Nordseestraße │ 18:50:00   │       106 │            20 │       0 │         0 │ Oldenburg(Oldb) Kurlandallee              │\n",
       "│ 415179520 │ Verkehr und Wasser GmbH (VWG) │ 322              │ 13385           │ Oldenburg(Oldb) Nordseestraße │ 18:50:00   │       106 │            31 │     -30 │       -30 │ Oldenburg(Oldb) bfe-Oldenburg/Unterm Berg │\n",
       "│ 415179520 │ Verkehr und Wasser GmbH (VWG) │ 322              │ 13385           │ Oldenburg(Oldb) Nordseestraße │ 18:50:00   │       106 │            32 │       0 │         0 │ Oldenburg(Oldb) Weser-Ems-Halle           │\n",
       "│ 415179520 │ Verkehr und Wasser GmbH (VWG) │ 322              │ 13385           │ Oldenburg(Oldb) Nordseestraße │ 18:50:00   │       106 │            43 │     -30 │       -30 │ Oldenburg(Oldb) Feststraße                │\n",
       "│ 415179520 │ Verkehr und Wasser GmbH (VWG) │ 322              │ 13385           │ Oldenburg(Oldb) Nordseestraße │ 18:50:00   │       106 │            44 │       0 │         0 │ Oldenburg(Oldb) Bodenburgallee            │\n",
       "│ 415179518 │ Verkehr und Wasser GmbH (VWG) │ 322              │ 13387           │ Oldenburg(Oldb) Nordseestraße │ 18:20:00   │       106 │             0 │       0 │         0 │ Oldenburg(Oldb) Fliegerhorst              │\n",
       "│ 415179518 │ Verkehr und Wasser GmbH (VWG) │ 322              │ 13387           │ Oldenburg(Oldb) Nordseestraße │ 18:20:00   │       106 │             3 │     -30 │       -30 │ Oldenburg(Oldb) Zum Offizierskasino       │\n",
       "│ 415179518 │ Verkehr und Wasser GmbH (VWG) │ 322              │ 13387           │ Oldenburg(Oldb) Nordseestraße │ 18:20:00   │       106 │             4 │       0 │         0 │ Oldenburg(Oldb) Hauptwache                │\n",
       "│ 415179518 │ Verkehr und Wasser GmbH (VWG) │ 322              │ 13387           │ Oldenburg(Oldb) Nordseestraße │ 18:20:00   │       106 │             8 │     -30 │       -30 │ Oldenburg(Oldb) Fahrenkamp                │\n",
       "├───────────┴───────────────────────────────┴──────────────────┴─────────────────┴───────────────────────────────┴────────────┴───────────┴───────────────┴─────────┴───────────┴───────────────────────────────────────────┤\n",
       "│ ? rows (>9999 rows, 20 shown)                                                                                                                                                                                  11 columns │\n",
       "└───────────────────────────────────────────────────────────────────────────────────────────────────────────────────────────────────────────────────────────────────────────────────────────────────────────────────────────┘"
      ]
     },
     "execution_count": 24,
     "metadata": {},
     "output_type": "execute_result"
    }
   ],
   "source": [
    "duck.sql(\"\"\"select * from trip_updates_vbn\"\"\")"
   ]
  },
  {
   "cell_type": "code",
   "execution_count": 25,
   "id": "c7f93454",
   "metadata": {},
   "outputs": [
    {
     "data": {
      "application/vnd.microsoft.datawrangler.viewer.v0+json": {
       "columns": [
        {
         "name": "index",
         "rawType": "int64",
         "type": "integer"
        },
        {
         "name": "agency_name",
         "rawType": "object",
         "type": "string"
        },
        {
         "name": "route_short_name",
         "rawType": "object",
         "type": "string"
        }
       ],
       "ref": "a20ca71c-678d-4576-addf-dcb155ae1699",
       "rows": [
        [
         "0",
         "AM Bus",
         "330"
        ],
        [
         "1",
         "AM Bus",
         "340"
        ],
        [
         "2",
         "AM Bus",
         "370"
        ],
        [
         "3",
         "AllerBus",
         "510"
        ],
        [
         "4",
         "AllerBus",
         "701"
        ],
        [
         "5",
         "AllerBus",
         "711"
        ],
        [
         "6",
         "AllerBus",
         "712"
        ],
        [
         "7",
         "AllerBus",
         "713"
        ],
        [
         "8",
         "AllerBus",
         "714"
        ],
        [
         "9",
         "AllerBus",
         "760"
        ],
        [
         "10",
         "AllerBus",
         "781"
        ],
        [
         "11",
         "AllerBus",
         "783"
        ],
        [
         "12",
         "AllerBus",
         "784"
        ],
        [
         "13",
         "BREMERHAVEN BUS",
         "502"
        ],
        [
         "14",
         "BREMERHAVEN BUS",
         "503"
        ],
        [
         "15",
         "BREMERHAVEN BUS",
         "505"
        ],
        [
         "16",
         "BREMERHAVEN BUS",
         "506"
        ],
        [
         "17",
         "BREMERHAVEN BUS",
         "507"
        ],
        [
         "18",
         "BREMERHAVEN BUS",
         "508"
        ],
        [
         "19",
         "BREMERHAVEN BUS",
         "509"
        ],
        [
         "20",
         "BREMERHAVEN BUS",
         "510"
        ],
        [
         "21",
         "BREMERHAVEN BUS",
         "514"
        ],
        [
         "22",
         "BREMERHAVEN BUS",
         "HL"
        ],
        [
         "23",
         "BREMERHAVEN BUS",
         "S"
        ],
        [
         "24",
         "Bremer Straßenbahn AG",
         "1"
        ],
        [
         "25",
         "Bremer Straßenbahn AG",
         "10"
        ],
        [
         "26",
         "Bremer Straßenbahn AG",
         "10E"
        ],
        [
         "27",
         "Bremer Straßenbahn AG",
         "14"
        ],
        [
         "28",
         "Bremer Straßenbahn AG",
         "1E"
        ],
        [
         "29",
         "Bremer Straßenbahn AG",
         "2"
        ],
        [
         "30",
         "Bremer Straßenbahn AG",
         "20"
        ],
        [
         "31",
         "Bremer Straßenbahn AG",
         "21"
        ],
        [
         "32",
         "Bremer Straßenbahn AG",
         "22"
        ],
        [
         "33",
         "Bremer Straßenbahn AG",
         "24"
        ],
        [
         "34",
         "Bremer Straßenbahn AG",
         "25"
        ],
        [
         "35",
         "Bremer Straßenbahn AG",
         "28"
        ],
        [
         "36",
         "Bremer Straßenbahn AG",
         "29"
        ],
        [
         "37",
         "Bremer Straßenbahn AG",
         "3"
        ],
        [
         "38",
         "Bremer Straßenbahn AG",
         "31"
        ],
        [
         "39",
         "Bremer Straßenbahn AG",
         "33"
        ],
        [
         "40",
         "Bremer Straßenbahn AG",
         "34"
        ],
        [
         "41",
         "Bremer Straßenbahn AG",
         "37"
        ],
        [
         "42",
         "Bremer Straßenbahn AG",
         "38"
        ],
        [
         "43",
         "Bremer Straßenbahn AG",
         "4"
        ],
        [
         "44",
         "Bremer Straßenbahn AG",
         "40"
        ],
        [
         "45",
         "Bremer Straßenbahn AG",
         "41"
        ],
        [
         "46",
         "Bremer Straßenbahn AG",
         "41S"
        ],
        [
         "47",
         "Bremer Straßenbahn AG",
         "42"
        ],
        [
         "48",
         "Bremer Straßenbahn AG",
         "44"
        ],
        [
         "49",
         "Bremer Straßenbahn AG",
         "45"
        ]
       ],
       "shape": {
        "columns": 2,
        "rows": 212
       }
      },
      "text/html": [
       "<div>\n",
       "<style scoped>\n",
       "    .dataframe tbody tr th:only-of-type {\n",
       "        vertical-align: middle;\n",
       "    }\n",
       "\n",
       "    .dataframe tbody tr th {\n",
       "        vertical-align: top;\n",
       "    }\n",
       "\n",
       "    .dataframe thead th {\n",
       "        text-align: right;\n",
       "    }\n",
       "</style>\n",
       "<table border=\"1\" class=\"dataframe\">\n",
       "  <thead>\n",
       "    <tr style=\"text-align: right;\">\n",
       "      <th></th>\n",
       "      <th>agency_name</th>\n",
       "      <th>route_short_name</th>\n",
       "    </tr>\n",
       "  </thead>\n",
       "  <tbody>\n",
       "    <tr>\n",
       "      <th>0</th>\n",
       "      <td>AM Bus</td>\n",
       "      <td>330</td>\n",
       "    </tr>\n",
       "    <tr>\n",
       "      <th>1</th>\n",
       "      <td>AM Bus</td>\n",
       "      <td>340</td>\n",
       "    </tr>\n",
       "    <tr>\n",
       "      <th>2</th>\n",
       "      <td>AM Bus</td>\n",
       "      <td>370</td>\n",
       "    </tr>\n",
       "    <tr>\n",
       "      <th>3</th>\n",
       "      <td>AllerBus</td>\n",
       "      <td>510</td>\n",
       "    </tr>\n",
       "    <tr>\n",
       "      <th>4</th>\n",
       "      <td>AllerBus</td>\n",
       "      <td>701</td>\n",
       "    </tr>\n",
       "    <tr>\n",
       "      <th>...</th>\n",
       "      <td>...</td>\n",
       "      <td>...</td>\n",
       "    </tr>\n",
       "    <tr>\n",
       "      <th>207</th>\n",
       "      <td>Weser-Ems-Bus Betrieb Bremen</td>\n",
       "      <td>880</td>\n",
       "    </tr>\n",
       "    <tr>\n",
       "      <th>208</th>\n",
       "      <td>Weser-Ems-Bus Betrieb Bremen</td>\n",
       "      <td>888</td>\n",
       "    </tr>\n",
       "    <tr>\n",
       "      <th>209</th>\n",
       "      <td>Weser-Ems-Bus Betrieb Ostfriesland</td>\n",
       "      <td>623</td>\n",
       "    </tr>\n",
       "    <tr>\n",
       "      <th>210</th>\n",
       "      <td>Weser-Ems-Bus Betrieb Ostfriesland</td>\n",
       "      <td>625</td>\n",
       "    </tr>\n",
       "    <tr>\n",
       "      <th>211</th>\n",
       "      <td>Weserfähre Bremen</td>\n",
       "      <td>FBS3</td>\n",
       "    </tr>\n",
       "  </tbody>\n",
       "</table>\n",
       "<p>212 rows × 2 columns</p>\n",
       "</div>"
      ],
      "text/plain": [
       "                            agency_name route_short_name\n",
       "0                                AM Bus              330\n",
       "1                                AM Bus              340\n",
       "2                                AM Bus              370\n",
       "3                              AllerBus              510\n",
       "4                              AllerBus              701\n",
       "..                                  ...              ...\n",
       "207        Weser-Ems-Bus Betrieb Bremen              880\n",
       "208        Weser-Ems-Bus Betrieb Bremen              888\n",
       "209  Weser-Ems-Bus Betrieb Ostfriesland              623\n",
       "210  Weser-Ems-Bus Betrieb Ostfriesland              625\n",
       "211                   Weserfähre Bremen             FBS3\n",
       "\n",
       "[212 rows x 2 columns]"
      ]
     },
     "execution_count": 25,
     "metadata": {},
     "output_type": "execute_result"
    }
   ],
   "source": [
    "duck.sql(\"\"\"select agency_name, route_short_name \n",
    "         from trip_updates_vbn \n",
    "         group by all\n",
    "         order by agency_name, route_short_name\"\"\").df()"
   ]
  },
  {
   "cell_type": "markdown",
   "id": "8ab13f46",
   "metadata": {},
   "source": [
    "## Verknüpfung Fahrten heute mit Verlauf"
   ]
  },
  {
   "cell_type": "code",
   "execution_count": 48,
   "id": "00663a19",
   "metadata": {},
   "outputs": [
    {
     "data": {
      "text/plain": [
       "┌──────────────────────────────┬─────────────────────┬────────────────────────────────────────────────────────────────────────────┬────────────────────────────┐\n",
       "│ CAST(departure_time AS TIME) │    current_time     │ datediff('HOUR', CAST(departure_time AS TIME), CAST(current_time AS TIME)) │ CAST(current_time AS TIME) │\n",
       "│             time             │ time with time zone │                                   int64                                    │            time            │\n",
       "├──────────────────────────────┼─────────────────────┼────────────────────────────────────────────────────────────────────────────┼────────────────────────────┤\n",
       "│ 05:51:00                     │ 17:09:31.428+02     │                                                                         12 │ 17:09:31.428               │\n",
       "│ 05:54:00                     │ 17:09:31.428+02     │                                                                         12 │ 17:09:31.428               │\n",
       "│ 06:00:00                     │ 17:09:31.428+02     │                                                                         11 │ 17:09:31.428               │\n",
       "│ 06:21:00                     │ 17:09:31.428+02     │                                                                         11 │ 17:09:31.428               │\n",
       "│ 06:24:00                     │ 17:09:31.428+02     │                                                                         11 │ 17:09:31.428               │\n",
       "│ 06:30:00                     │ 17:09:31.428+02     │                                                                         11 │ 17:09:31.428               │\n",
       "│ 06:51:00                     │ 17:09:31.428+02     │                                                                         11 │ 17:09:31.428               │\n",
       "│ 06:54:00                     │ 17:09:31.428+02     │                                                                         11 │ 17:09:31.428               │\n",
       "│ 07:00:00                     │ 17:09:31.428+02     │                                                                         10 │ 17:09:31.428               │\n",
       "│ 07:21:00                     │ 17:09:31.428+02     │                                                                         10 │ 17:09:31.428               │\n",
       "│    ·                         │        ·            │                                                                          · │      ·                     │\n",
       "│    ·                         │        ·            │                                                                          · │      ·                     │\n",
       "│    ·                         │        ·            │                                                                          · │      ·                     │\n",
       "│ 14:38:00                     │ 17:09:31.428+02     │                                                                          3 │ 17:09:31.428               │\n",
       "│ 14:39:00                     │ 17:09:31.428+02     │                                                                          3 │ 17:09:31.428               │\n",
       "│ 14:40:00                     │ 17:09:31.428+02     │                                                                          3 │ 17:09:31.428               │\n",
       "│ 14:41:00                     │ 17:09:31.428+02     │                                                                          3 │ 17:09:31.428               │\n",
       "│ 13:59:00                     │ 17:09:31.428+02     │                                                                          4 │ 17:09:31.428               │\n",
       "│ 14:00:00                     │ 17:09:31.428+02     │                                                                          3 │ 17:09:31.428               │\n",
       "│ 14:01:00                     │ 17:09:31.428+02     │                                                                          3 │ 17:09:31.428               │\n",
       "│ 14:02:00                     │ 17:09:31.428+02     │                                                                          3 │ 17:09:31.428               │\n",
       "│ 14:03:00                     │ 17:09:31.428+02     │                                                                          3 │ 17:09:31.428               │\n",
       "│ 14:04:00                     │ 17:09:31.428+02     │                                                                          3 │ 17:09:31.428               │\n",
       "├──────────────────────────────┴─────────────────────┴────────────────────────────────────────────────────────────────────────────┴────────────────────────────┤\n",
       "│ ? rows (>9999 rows, 20 shown)                                                                                                                      4 columns │\n",
       "└──────────────────────────────────────────────────────────────────────────────────────────────────────────────────────────────────────────────────────────────┘"
      ]
     },
     "execution_count": 48,
     "metadata": {},
     "output_type": "execute_result"
    }
   ],
   "source": [
    "duck.sql(\"\"\"select departure_time::time, current_time, datediff('HOUR', departure_time::time, current_time::time), \n",
    "         current_time::time from stop_times\n",
    "        \"\"\")"
   ]
  },
  {
   "cell_type": "code",
   "execution_count": 50,
   "id": "99304c63",
   "metadata": {},
   "outputs": [
    {
     "data": {
      "application/vnd.microsoft.datawrangler.viewer.v0+json": {
       "columns": [
        {
         "name": "index",
         "rawType": "int64",
         "type": "integer"
        },
        {
         "name": "route_short_name",
         "rawType": "object",
         "type": "string"
        },
        {
         "name": "trip_short_name",
         "rawType": "object",
         "type": "string"
        },
        {
         "name": "trip_headsign",
         "rawType": "object",
         "type": "string"
        },
        {
         "name": "stop_sequence",
         "rawType": "int64",
         "type": "integer"
        },
        {
         "name": "stop_name",
         "rawType": "object",
         "type": "string"
        },
        {
         "name": "departure_time",
         "rawType": "object",
         "type": "string"
        },
        {
         "name": "departure",
         "rawType": "int64",
         "type": "integer"
        },
        {
         "name": "arrival",
         "rawType": "int64",
         "type": "integer"
        },
        {
         "name": "max_departure",
         "rawType": "int64",
         "type": "integer"
        }
       ],
       "ref": "1f567d24-a023-4169-b75c-8a4148c47e79",
       "rows": [
        [
         "0",
         "101",
         "1101037",
         "Bassum, Bahnhof",
         "9",
         "Bremen Huckelriede",
         "16:43:00",
         "702",
         "702",
         "702"
        ],
        [
         "1",
         "101",
         "1101020",
         "Bremen, Hauptbahnhof",
         "0",
         "Fahrenhorst(Stuhr) Kreuzung",
         "17:35:00",
         "0",
         "0",
         "0"
        ],
        [
         "2",
         "101",
         "1101015",
         "Bassum, Bahnhof",
         "0",
         "Bremen Hauptbahnhof",
         "17:25:00",
         "0",
         "0",
         "0"
        ],
        [
         "3",
         "101",
         "1101024",
         "Bremen, Hauptbahnhof",
         "0",
         "Bassum Bahnhof",
         "19:15:00",
         "0",
         "0",
         "0"
        ],
        [
         "4",
         "101",
         "1101019",
         "Bassum, Bahnhof",
         "0",
         "Bremen Hauptbahnhof",
         "18:25:00",
         "0",
         "0",
         "0"
        ],
        [
         "5",
         "101",
         "1101022",
         "Bremen, Hauptbahnhof",
         "0",
         "Bassum Bahnhof",
         "18:15:00",
         "0",
         "0",
         "0"
        ],
        [
         "6",
         "101",
         "1101021",
         "Bassum, Bahnhof",
         "0",
         "Bremen Hauptbahnhof",
         "19:25:00",
         "0",
         "0",
         "0"
        ],
        [
         "7",
         "101",
         "1101129",
         "Bassum, Bahnhof",
         "0",
         "Bremen Hauptbahnhof",
         "20:25:00",
         "0",
         "0",
         "0"
        ],
        [
         "8",
         "102",
         "1102216",
         "Syke, Bahnhof",
         "0",
         "Bremen Hauptbahnhof",
         "21:44:00",
         "0",
         "0",
         "0"
        ],
        [
         "9",
         "102",
         "1102223",
         "Bremen, Hauptbahnhof",
         "0",
         "Syke Bahnhof",
         "21:17:00",
         "0",
         "0",
         "0"
        ],
        [
         "10",
         "102",
         "1102214",
         "Syke, Bahnhof",
         "0",
         "Bremen Hauptbahnhof",
         "19:44:00",
         "0",
         "0",
         "0"
        ],
        [
         "11",
         "102",
         "1102315",
         "Bremen Hbf Schnellbus",
         "0",
         "Syke Bahnhof",
         "19:17:00",
         "0",
         "0",
         "0"
        ],
        [
         "12",
         "102",
         "1102316",
         "Syke Schnellbus",
         "0",
         "Bremen Hauptbahnhof",
         "20:44:00",
         "0",
         "0",
         "0"
        ],
        [
         "13",
         "102",
         "1102221",
         "Bremen, Hauptbahnhof",
         "0",
         "Syke Bahnhof",
         "20:22:00",
         "0",
         "0",
         "0"
        ],
        [
         "14",
         "102",
         "1102313",
         "Bremen, Hauptbahnhof",
         "0",
         "Syke Bahnhof",
         "17:17:00",
         "0",
         "0",
         "0"
        ],
        [
         "15",
         "102",
         "1102314",
         "Syke, Bahnhof",
         "0",
         "Bremen Hauptbahnhof",
         "18:44:00",
         "0",
         "0",
         "0"
        ],
        [
         "16",
         "120",
         "1120036",
         "Bremen, Hauptbahnhof",
         "0",
         "Kirchweyhe(Weyhe) Bahnhof Ost",
         "16:52:00",
         "0",
         "0",
         "0"
        ],
        [
         "17",
         "120",
         "1120042",
         "Bremen, Hauptbahnhof",
         "0",
         "Kirchweyhe(Weyhe) Bahnhof Ost",
         "19:52:00",
         "0",
         "0",
         "0"
        ],
        [
         "18",
         "120",
         "1120525",
         "Kirchweyhe, Bahnhof Ost",
         "0",
         "Brinkum(Stuhr) Marktplatz",
         "17:10:00",
         "0",
         "0",
         "0"
        ],
        [
         "19",
         "120",
         "1120037",
         "Kirchweyhe, Bahnhof Ost",
         "0",
         "Bremen Hauptbahnhof",
         "20:07:00",
         "0",
         "0",
         "0"
        ],
        [
         "20",
         "120",
         "1120530",
         "Brinkum, Marktplatz",
         "0",
         "Kirchweyhe(Weyhe) Bahnhof Ost",
         "20:35:00",
         "0",
         "0",
         "0"
        ],
        [
         "21",
         "120",
         "1120535",
         "Kirchweyhe, Bahnhof Ost",
         "0",
         "Brinkum(Stuhr) Marktplatz",
         "20:10:00",
         "0",
         "0",
         "0"
        ],
        [
         "22",
         "120",
         "1120029",
         "Kirchweyhe, Bahnhof Ost",
         "0",
         "Bremen Hauptbahnhof",
         "17:07:00",
         "0",
         "0",
         "0"
        ],
        [
         "23",
         "120",
         "1120035",
         "Kirchweyhe, Bahnhof Ost",
         "0",
         "Bremen Hauptbahnhof",
         "19:07:00",
         "0",
         "0",
         "0"
        ],
        [
         "24",
         "120",
         "1120044",
         "Bremen, Hauptbahnhof",
         "0",
         "Kirchweyhe(Weyhe) Bahnhof Ost",
         "20:52:00",
         "0",
         "0",
         "0"
        ],
        [
         "25",
         "120",
         "1120038",
         "Bremen, Hauptbahnhof",
         "0",
         "Kirchweyhe(Weyhe) Bahnhof Ost",
         "18:52:00",
         "0",
         "0",
         "0"
        ],
        [
         "26",
         "120",
         "1120092",
         "Bremen, Hauptbahnhof",
         "0",
         "Kirchweyhe(Weyhe) Bahnhof Ost",
         "17:52:00",
         "0",
         "0",
         "0"
        ],
        [
         "27",
         "120",
         "1120025",
         "Kirchweyhe, Bahnhof Ost",
         "12",
         "Bremen Soester Straße",
         "16:34:00",
         "671",
         "671",
         "671"
        ],
        [
         "28",
         "120",
         "1120031",
         "Kirchweyhe, Bahnhof Ost",
         "0",
         "Bremen Hauptbahnhof",
         "18:07:00",
         "0",
         "0",
         "0"
        ],
        [
         "29",
         "120",
         "1120522",
         "Brinkum, Marktplatz",
         "8",
         "Hörden(Weyhe) Dreyer",
         "16:45:00",
         "126",
         "126",
         "126"
        ],
        [
         "30",
         "120",
         "1120032",
         "Bremen, Hauptbahnhof",
         "26",
         "Bremen Hochschule Bremen",
         "16:40:00",
         "838",
         "838",
         "838"
        ],
        [
         "31",
         "120",
         "1120528",
         "Brinkum, Marktplatz",
         "0",
         "Kirchweyhe(Weyhe) Bahnhof Ost",
         "19:35:00",
         "0",
         "0",
         "0"
        ],
        [
         "32",
         "120",
         "1120529",
         "Kirchweyhe, Bahnhof Ost",
         "0",
         "Brinkum(Stuhr) Marktplatz",
         "18:10:00",
         "0",
         "0",
         "0"
        ],
        [
         "33",
         "120",
         "1120526",
         "Brinkum, Marktplatz",
         "0",
         "Kirchweyhe(Weyhe) Bahnhof Ost",
         "18:35:00",
         "0",
         "0",
         "0"
        ],
        [
         "34",
         "120",
         "1120531",
         "Kirchweyhe, Bahnhof Ost",
         "0",
         "Brinkum(Stuhr) Marktplatz",
         "19:10:00",
         "0",
         "0",
         "0"
        ],
        [
         "35",
         "120",
         "1120524",
         "Brinkum, Marktplatz",
         "0",
         "Kirchweyhe(Weyhe) Bahnhof Ost",
         "17:35:00",
         "0",
         "0",
         "0"
        ],
        [
         "36",
         "121",
         "1121020",
         "Bremen, Hauptbahnhof",
         "2",
         "Kirchweyhe(Weyhe) Reethoop",
         "16:45:00",
         "72",
         "72",
         "72"
        ],
        [
         "37",
         "121",
         "1121022",
         "Bremen, Hauptbahnhof",
         "0",
         "Kirchweyhe(Weyhe) Bahnhof West",
         "17:40:00",
         "414",
         "0",
         "414"
        ],
        [
         "38",
         "121",
         "1121017",
         "Kirchweyhe, Bahnhof Ost",
         "1",
         "Bremen Am Wall",
         "16:43:00",
         "834",
         "834",
         "834"
        ],
        [
         "39",
         "121",
         "1121021",
         "Kirchweyhe, Bahnhof Ost",
         "0",
         "Bremen Hauptbahnhof",
         "19:38:00",
         "0",
         "0",
         "0"
        ],
        [
         "40",
         "121",
         "1121024",
         "Bremen, Hauptbahnhof",
         "0",
         "Kirchweyhe(Weyhe) Bahnhof West",
         "18:40:00",
         "0",
         "0",
         "0"
        ],
        [
         "41",
         "121",
         "1121025",
         "Kirchweyhe, Bahnhof Ost",
         "0",
         "Bremen Hauptbahnhof",
         "17:38:00",
         "0",
         "0",
         "0"
        ],
        [
         "42",
         "121",
         "1121019",
         "Kirchweyhe, Bahnhof Ost",
         "0",
         "Bremen Hauptbahnhof",
         "18:38:00",
         "234",
         "0",
         "234"
        ],
        [
         "43",
         "123",
         "1123064",
         "Sulingen, ZOB",
         "1",
         "Bassum Alte Ziegelei",
         "16:46:00",
         "232",
         "232",
         "232"
        ],
        [
         "44",
         "123",
         "1123355",
         "Bassum, Bahnhof",
         "0",
         "Sulingen ZOB",
         "22:43:00",
         "0",
         "0",
         "0"
        ],
        [
         "45",
         "123",
         "1123070",
         "Sulingen, ZOB",
         "0",
         "Bassum Bahnhof",
         "18:42:00",
         "0",
         "0",
         "0"
        ],
        [
         "46",
         "123",
         "1123904",
         "Sulingen, ZOB",
         "0",
         "Bassum Bahnhof",
         "22:51:00",
         "0",
         "0",
         "0"
        ],
        [
         "47",
         "133",
         "1133051",
         "Sulingen, ZOB",
         "23",
         "Barenburg Abzw. Scharringhausen",
         "16:49:00",
         "71",
         "71",
         "71"
        ],
        [
         "48",
         "133",
         "1133362",
         "Rahden, Bahnhof",
         "13",
         "Holzhausen(Bahrenborstel)",
         "16:43:00",
         "164",
         "164",
         "164"
        ],
        [
         "49",
         "133",
         "1133353",
         "Sulingen, ZOB",
         "0",
         "Rahden(Westf) Bahnhof",
         "17:07:00",
         "0",
         "0",
         "0"
        ]
       ],
       "shape": {
        "columns": 9,
        "rows": 183
       }
      },
      "text/html": [
       "<div>\n",
       "<style scoped>\n",
       "    .dataframe tbody tr th:only-of-type {\n",
       "        vertical-align: middle;\n",
       "    }\n",
       "\n",
       "    .dataframe tbody tr th {\n",
       "        vertical-align: top;\n",
       "    }\n",
       "\n",
       "    .dataframe thead th {\n",
       "        text-align: right;\n",
       "    }\n",
       "</style>\n",
       "<table border=\"1\" class=\"dataframe\">\n",
       "  <thead>\n",
       "    <tr style=\"text-align: right;\">\n",
       "      <th></th>\n",
       "      <th>route_short_name</th>\n",
       "      <th>trip_short_name</th>\n",
       "      <th>trip_headsign</th>\n",
       "      <th>stop_sequence</th>\n",
       "      <th>stop_name</th>\n",
       "      <th>departure_time</th>\n",
       "      <th>departure</th>\n",
       "      <th>arrival</th>\n",
       "      <th>max_departure</th>\n",
       "    </tr>\n",
       "  </thead>\n",
       "  <tbody>\n",
       "    <tr>\n",
       "      <th>0</th>\n",
       "      <td>101</td>\n",
       "      <td>1101037</td>\n",
       "      <td>Bassum, Bahnhof</td>\n",
       "      <td>9</td>\n",
       "      <td>Bremen Huckelriede</td>\n",
       "      <td>16:43:00</td>\n",
       "      <td>702</td>\n",
       "      <td>702</td>\n",
       "      <td>702</td>\n",
       "    </tr>\n",
       "    <tr>\n",
       "      <th>1</th>\n",
       "      <td>101</td>\n",
       "      <td>1101020</td>\n",
       "      <td>Bremen, Hauptbahnhof</td>\n",
       "      <td>0</td>\n",
       "      <td>Fahrenhorst(Stuhr) Kreuzung</td>\n",
       "      <td>17:35:00</td>\n",
       "      <td>0</td>\n",
       "      <td>0</td>\n",
       "      <td>0</td>\n",
       "    </tr>\n",
       "    <tr>\n",
       "      <th>2</th>\n",
       "      <td>101</td>\n",
       "      <td>1101015</td>\n",
       "      <td>Bassum, Bahnhof</td>\n",
       "      <td>0</td>\n",
       "      <td>Bremen Hauptbahnhof</td>\n",
       "      <td>17:25:00</td>\n",
       "      <td>0</td>\n",
       "      <td>0</td>\n",
       "      <td>0</td>\n",
       "    </tr>\n",
       "    <tr>\n",
       "      <th>3</th>\n",
       "      <td>101</td>\n",
       "      <td>1101024</td>\n",
       "      <td>Bremen, Hauptbahnhof</td>\n",
       "      <td>0</td>\n",
       "      <td>Bassum Bahnhof</td>\n",
       "      <td>19:15:00</td>\n",
       "      <td>0</td>\n",
       "      <td>0</td>\n",
       "      <td>0</td>\n",
       "    </tr>\n",
       "    <tr>\n",
       "      <th>4</th>\n",
       "      <td>101</td>\n",
       "      <td>1101019</td>\n",
       "      <td>Bassum, Bahnhof</td>\n",
       "      <td>0</td>\n",
       "      <td>Bremen Hauptbahnhof</td>\n",
       "      <td>18:25:00</td>\n",
       "      <td>0</td>\n",
       "      <td>0</td>\n",
       "      <td>0</td>\n",
       "    </tr>\n",
       "    <tr>\n",
       "      <th>...</th>\n",
       "      <td>...</td>\n",
       "      <td>...</td>\n",
       "      <td>...</td>\n",
       "      <td>...</td>\n",
       "      <td>...</td>\n",
       "      <td>...</td>\n",
       "      <td>...</td>\n",
       "      <td>...</td>\n",
       "      <td>...</td>\n",
       "    </tr>\n",
       "    <tr>\n",
       "      <th>178</th>\n",
       "      <td>S35</td>\n",
       "      <td>6352514</td>\n",
       "      <td>Oldenburg(Oldb) ZOB</td>\n",
       "      <td>0</td>\n",
       "      <td>Westerstede Hössenbad</td>\n",
       "      <td>17:05:00</td>\n",
       "      <td>0</td>\n",
       "      <td>0</td>\n",
       "      <td>0</td>\n",
       "    </tr>\n",
       "    <tr>\n",
       "      <th>179</th>\n",
       "      <td>S35</td>\n",
       "      <td>6352512</td>\n",
       "      <td>Oldenburg(Oldb) ZOB</td>\n",
       "      <td>10</td>\n",
       "      <td>Oldenburg(Oldb) Kath. Friedhof/BBS Haarentor</td>\n",
       "      <td>16:39:00</td>\n",
       "      <td>531</td>\n",
       "      <td>531</td>\n",
       "      <td>531</td>\n",
       "    </tr>\n",
       "    <tr>\n",
       "      <th>180</th>\n",
       "      <td>S60</td>\n",
       "      <td>1600022</td>\n",
       "      <td>Schwanewede Ostlandstraße (Heideschule)</td>\n",
       "      <td>0</td>\n",
       "      <td>Bremen Hauptbahnhof</td>\n",
       "      <td>16:40:00</td>\n",
       "      <td>711</td>\n",
       "      <td>0</td>\n",
       "      <td>711</td>\n",
       "    </tr>\n",
       "    <tr>\n",
       "      <th>181</th>\n",
       "      <td>S60</td>\n",
       "      <td>1600023</td>\n",
       "      <td>Bremen Hauptbahnhof</td>\n",
       "      <td>3</td>\n",
       "      <td>Eggestedt(Schwanewede) Betonstraße</td>\n",
       "      <td>16:42:00</td>\n",
       "      <td>393</td>\n",
       "      <td>393</td>\n",
       "      <td>393</td>\n",
       "    </tr>\n",
       "    <tr>\n",
       "      <th>182</th>\n",
       "      <td>S60</td>\n",
       "      <td>1600024</td>\n",
       "      <td>Schwanewede Ostlandstraße (Heideschule)</td>\n",
       "      <td>0</td>\n",
       "      <td>Bremen Hauptbahnhof</td>\n",
       "      <td>17:40:00</td>\n",
       "      <td>0</td>\n",
       "      <td>0</td>\n",
       "      <td>0</td>\n",
       "    </tr>\n",
       "  </tbody>\n",
       "</table>\n",
       "<p>183 rows × 9 columns</p>\n",
       "</div>"
      ],
      "text/plain": [
       "    route_short_name trip_short_name                            trip_headsign  \\\n",
       "0                101         1101037                          Bassum, Bahnhof   \n",
       "1                101         1101020                     Bremen, Hauptbahnhof   \n",
       "2                101         1101015                          Bassum, Bahnhof   \n",
       "3                101         1101024                     Bremen, Hauptbahnhof   \n",
       "4                101         1101019                          Bassum, Bahnhof   \n",
       "..               ...             ...                                      ...   \n",
       "178              S35         6352514                      Oldenburg(Oldb) ZOB   \n",
       "179              S35         6352512                      Oldenburg(Oldb) ZOB   \n",
       "180              S60         1600022  Schwanewede Ostlandstraße (Heideschule)   \n",
       "181              S60         1600023                      Bremen Hauptbahnhof   \n",
       "182              S60         1600024  Schwanewede Ostlandstraße (Heideschule)   \n",
       "\n",
       "     stop_sequence                                     stop_name  \\\n",
       "0                9                            Bremen Huckelriede   \n",
       "1                0                   Fahrenhorst(Stuhr) Kreuzung   \n",
       "2                0                           Bremen Hauptbahnhof   \n",
       "3                0                                Bassum Bahnhof   \n",
       "4                0                           Bremen Hauptbahnhof   \n",
       "..             ...                                           ...   \n",
       "178              0                         Westerstede Hössenbad   \n",
       "179             10  Oldenburg(Oldb) Kath. Friedhof/BBS Haarentor   \n",
       "180              0                           Bremen Hauptbahnhof   \n",
       "181              3            Eggestedt(Schwanewede) Betonstraße   \n",
       "182              0                           Bremen Hauptbahnhof   \n",
       "\n",
       "    departure_time  departure  arrival  max_departure  \n",
       "0         16:43:00        702      702            702  \n",
       "1         17:35:00          0        0              0  \n",
       "2         17:25:00          0        0              0  \n",
       "3         19:15:00          0        0              0  \n",
       "4         18:25:00          0        0              0  \n",
       "..             ...        ...      ...            ...  \n",
       "178       17:05:00          0        0              0  \n",
       "179       16:39:00        531      531            531  \n",
       "180       16:40:00        711        0            711  \n",
       "181       16:42:00        393      393            393  \n",
       "182       17:40:00          0        0              0  \n",
       "\n",
       "[183 rows x 9 columns]"
      ]
     },
     "execution_count": 50,
     "metadata": {},
     "output_type": "execute_result"
    }
   ],
   "source": [
    "duck.sql(\"\"\"select r.route_short_name, t.trip_short_name, t.trip_headsign, st.stop_sequence, \n",
    "         s.stop_name, st.departure_time, tu.departure, tu.arrival, max(departure) over (partition by t.trip_short_name) as max_departure,\n",
    "         from stop_times st\n",
    "         join trips t on st.trip_id = t.trip_id\n",
    "         join verkehrt_heute vh on t.service_id = vh.service_id\n",
    "         join stops s on st.stop_id = s.stop_id\n",
    "         join routes r on t.route_id = r.route_id\n",
    "         join lin_vbn lv on r.agency_id = lv.agency_id and r.route_id = lv.route_id\n",
    "         join trip_updates_vbn tu on t.trip_id = tu.trip_id and st.stop_sequence = tu.stop_sequence\n",
    "\n",
    "         where r.route_short_name in (select nummer from dm.basis.linien where aktiv = True and ebene in ('1', '1+') order by nummer) \n",
    "         -- and abs(datediff('HOUR', departure_time::time, current_time::time)) < 2\n",
    "\n",
    "         qualify max_departure = departure\n",
    "\n",
    "         order by r.route_short_name\n",
    "                 \n",
    "         \n",
    "         \"\"\").df()"
   ]
  },
  {
   "cell_type": "markdown",
   "id": "8177c0be",
   "metadata": {},
   "source": []
  },
  {
   "cell_type": "code",
   "execution_count": null,
   "id": "13b55f55",
   "metadata": {},
   "outputs": [],
   "source": []
  }
 ],
 "metadata": {
  "kernelspec": {
   "display_name": ".venv",
   "language": "python",
   "name": "python3"
  },
  "language_info": {
   "codemirror_mode": {
    "name": "ipython",
    "version": 3
   },
   "file_extension": ".py",
   "mimetype": "text/x-python",
   "name": "python",
   "nbconvert_exporter": "python",
   "pygments_lexer": "ipython3",
   "version": "3.11.10"
  }
 },
 "nbformat": 4,
 "nbformat_minor": 5
}
